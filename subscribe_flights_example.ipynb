{
 "cells": [
  {
   "cell_type": "code",
   "execution_count": null,
   "id": "b1746f2d-598e-4591-b4b7-071a1b270e05",
   "metadata": {},
   "outputs": [],
   "source": [
    "import json\n",
    "\n",
    "from pyensign.ensign import authenticate, publisher, subscriber"
   ]
  },
  {
   "cell_type": "markdown",
   "id": "8f48b1bc-5c70-49a3-8883-b7d211e10503",
   "metadata": {},
   "source": [
    "# Configuration"
   ]
  },
  {
   "cell_type": "code",
   "execution_count": null,
   "id": "487ae15d-a15b-4638-98c1-e19ed5181fe2",
   "metadata": {},
   "outputs": [],
   "source": [
    "ENSIGN_CREDS_PATH=\"flight-tracker-creds.json\""
   ]
  },
  {
   "cell_type": "markdown",
   "id": "ae3c4277-1699-41a7-a5cf-12daeace00c2",
   "metadata": {},
   "source": [
    "# Subscribe to Flight Updates"
   ]
  },
  {
   "cell_type": "code",
   "execution_count": null,
   "id": "0d9417b5-e05f-4bac-8f98-980a7317d685",
   "metadata": {},
   "outputs": [],
   "source": [
    "callsigns = {}"
   ]
  },
  {
   "cell_type": "code",
   "execution_count": null,
   "id": "76890d49-230a-4acf-9559-8b1f8011a7ea",
   "metadata": {},
   "outputs": [],
   "source": [
    "def humanize(flight):\n",
    "    callsign = flight['callsign']\n",
    "    origin_country = flight['origin_country']\n",
    "    heading = flight['true_track']\n",
    "    velocity = flight['velocity']\n",
    "    \n",
    "    if callsign not in callsigns:\n",
    "        callsigns[callsign] = flight\n",
    "        return \"Detected a new flight with callsign {} from {}, heading {} at {} m/s\".format(callsign, origin_country, heading, velocity)\n",
    "    else:\n",
    "        return \"{} is in progress at heading {} with velocity {} m/s\".format(callsign, heading, velocity)"
   ]
  },
  {
   "cell_type": "code",
   "execution_count": null,
   "id": "f9e7df70-4165-4a26-bb9a-063e0cc7f484",
   "metadata": {},
   "outputs": [],
   "source": [
    "@authenticate(cred_path=ENSIGN_CREDS_PATH)\n",
    "@subscriber(\"flight-positions\")\n",
    "async def get_updates(updates):\n",
    "    async for flight in updates:\n",
    "        await print_update(flight)\n",
    "    \n",
    "@publisher(\"text-updates\")\n",
    "async def print_update(flight_event):\n",
    "    flight = json.loads(flight_event.data)\n",
    "    text = humanize(flight)\n",
    "    print(text)\n",
    "    return text"
   ]
  },
  {
   "cell_type": "code",
   "execution_count": null,
   "id": "1abe6aac-42d0-4b56-adfc-ac48fb0356c5",
   "metadata": {},
   "outputs": [],
   "source": [
    "await get_updates()"
   ]
  }
 ],
 "metadata": {
  "kernelspec": {
   "display_name": "Python 3 (ipykernel)",
   "language": "python",
   "name": "python3"
  },
  "language_info": {
   "codemirror_mode": {
    "name": "ipython",
    "version": 3
   },
   "file_extension": ".py",
   "mimetype": "text/x-python",
   "name": "python",
   "nbconvert_exporter": "python",
   "pygments_lexer": "ipython3",
   "version": "3.9.16"
  }
 },
 "nbformat": 4,
 "nbformat_minor": 5
}
