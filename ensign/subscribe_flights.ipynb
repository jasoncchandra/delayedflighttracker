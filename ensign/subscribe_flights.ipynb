{
 "cells": [
  {
   "cell_type": "code",
   "execution_count": 1,
   "id": "b1746f2d-598e-4591-b4b7-071a1b270e05",
   "metadata": {},
   "outputs": [],
   "source": [
    "import json\n",
    "import time\n",
    "import pandas as pd\n",
    "\n",
    "from pyensign.ensign import authenticate, publisher, subscriber"
   ]
  },
  {
   "cell_type": "markdown",
   "id": "8f48b1bc-5c70-49a3-8883-b7d211e10503",
   "metadata": {},
   "source": [
    "# Configuration"
   ]
  },
  {
   "cell_type": "code",
   "execution_count": 2,
   "id": "487ae15d-a15b-4638-98c1-e19ed5181fe2",
   "metadata": {},
   "outputs": [],
   "source": [
    "ENSIGN_CREDS_PATH=\"ensign-creds.json\""
   ]
  },
  {
   "cell_type": "markdown",
   "id": "ae3c4277-1699-41a7-a5cf-12daeace00c2",
   "metadata": {},
   "source": [
    "# Subscribe to Flight Updates"
   ]
  },
  {
   "cell_type": "code",
   "execution_count": 3,
   "id": "0d9417b5-e05f-4bac-8f98-980a7317d685",
   "metadata": {},
   "outputs": [],
   "source": [
    "callsigns = {}\n",
    "training_list = []"
   ]
  },
  {
   "cell_type": "code",
   "execution_count": 4,
   "id": "76890d49-230a-4acf-9559-8b1f8011a7ea",
   "metadata": {},
   "outputs": [],
   "source": [
    "def humanize(flight):\n",
    "    callsign = flight['callsign']\n",
    "    origin_country = flight['origin_country']\n",
    "    heading = flight['true_track']\n",
    "    velocity = flight['velocity']\n",
    "    \n",
    "    if callsign not in callsigns:\n",
    "        callsigns[callsign] = flight\n",
    "        return \"Detected a new flight with callsign {} from {}, heading {} at {} m/s\".format(callsign, origin_country, heading, velocity)\n",
    "    else:\n",
    "        return \"{} is in progress at heading {} with velocity {} m/s\".format(callsign, heading, velocity)"
   ]
  },
  {
   "cell_type": "code",
   "execution_count": 5,
   "id": "648dd904",
   "metadata": {},
   "outputs": [],
   "source": [
    "def store_data(flight):\n",
    "    \n",
    "    icao24 = flight['icao24']\n",
    "    callsign = flight['callsign']\n",
    "    origin_country = flight['origin_country']\n",
    "    time_position = flight['time_position']\n",
    "    last_contact = flight['last_contact']\n",
    "    longitude = flight['longitude']\n",
    "    latitude = flight['latitude']\n",
    "    geo_altitude = flight['geo_altitude']\n",
    "    on_ground = flight['on_ground']\n",
    "    true_track = flight['true_track']\n",
    "    velocity = flight['velocity']\n",
    "    vertical_rate = flight['vertical_rate']\n",
    "    sensors = flight['sensors']\n",
    "    barometric_altitude = flight['barometric_altitude']\n",
    "    transponder_code = flight['transponder_code']\n",
    "    special_purpose_indicator = flight['special_purpose_indicator']\n",
    "    position_source = flight['position_source']\n",
    "    category = flight['category']\n",
    "\n",
    "    return [\n",
    "        icao24,\n",
    "        callsign,\n",
    "        origin_country,\n",
    "        time_position,\n",
    "        last_contact,\n",
    "        longitude,\n",
    "        latitude,\n",
    "        geo_altitude,\n",
    "        on_ground,\n",
    "        true_track,\n",
    "        velocity,\n",
    "        vertical_rate,\n",
    "        sensors,\n",
    "        barometric_altitude,\n",
    "        transponder_code,\n",
    "        special_purpose_indicator,\n",
    "        position_source,\n",
    "        category\n",
    "    ]    \n",
    "\n",
    "        "
   ]
  },
  {
   "cell_type": "code",
   "execution_count": 6,
   "id": "f9e7df70-4165-4a26-bb9a-063e0cc7f484",
   "metadata": {},
   "outputs": [],
   "source": [
    "@authenticate(cred_path=ENSIGN_CREDS_PATH)\n",
    "@subscriber(\"flight-positions\")\n",
    "async def get_updates(updates):\n",
    "    async for flight in updates:\n",
    "        await print_update(flight)\n",
    "   \n",
    "@publisher(\"text-updates\")\n",
    "async def print_update(flight_event):\n",
    "    flight = json.loads(flight_event.data)\n",
    "    text = humanize(flight)\n",
    "\n",
    "    # capturing data locally\n",
    "    flight_data = store_data(flight)\n",
    "    training_list.append(flight_data)\n",
    "    \n",
    "    return text"
   ]
  },
  {
   "cell_type": "code",
   "execution_count": 7,
   "id": "1abe6aac-42d0-4b56-adfc-ac48fb0356c5",
   "metadata": {},
   "outputs": [
    {
     "ename": "CancelledError",
     "evalue": "",
     "output_type": "error",
     "traceback": [
      "\u001b[1;31m---------------------------------------------------------------------------\u001b[0m",
      "\u001b[1;31mCancelledError\u001b[0m                            Traceback (most recent call last)",
      "\u001b[1;32mc:\\Users\\tobyt\\Desktop\\Coding\\Personal\\delayedflighttracker\\subscribe_flights_example.ipynb Cell 9\u001b[0m line \u001b[0;36m1\n\u001b[1;32m----> <a href='vscode-notebook-cell:/c%3A/Users/tobyt/Desktop/Coding/Personal/delayedflighttracker/subscribe_flights_example.ipynb#X10sZmlsZQ%3D%3D?line=0'>1</a>\u001b[0m \u001b[39mawait\u001b[39;00m get_updates()\n",
      "File \u001b[1;32mc:\\Users\\tobyt\\Desktop\\Coding\\Personal\\delayedflighttracker\\env\\Lib\\site-packages\\pyensign\\ensign.py:721\u001b[0m, in \u001b[0;36mauthenticate.<locals>.wrap_coroutine.<locals>.wrapper\u001b[1;34m(*args, **kwargs)\u001b[0m\n\u001b[0;32m    719\u001b[0m     \u001b[39masync\u001b[39;00m \u001b[39mwith\u001b[39;00m Ensign(\u001b[39m*\u001b[39mauth_args, \u001b[39m*\u001b[39m\u001b[39m*\u001b[39mauth_kwargs) \u001b[39mas\u001b[39;00m client:\n\u001b[0;32m    720\u001b[0m         _client \u001b[39m=\u001b[39m client\n\u001b[1;32m--> 721\u001b[0m         res \u001b[39m=\u001b[39m \u001b[39mawait\u001b[39;00m coro(\u001b[39m*\u001b[39margs, \u001b[39m*\u001b[39m\u001b[39m*\u001b[39mkwargs)\n\u001b[0;32m    722\u001b[0m \u001b[39mexcept\u001b[39;00m \u001b[39mException\u001b[39;00m \u001b[39mas\u001b[39;00m e:\n\u001b[0;32m    723\u001b[0m     _client \u001b[39m=\u001b[39m \u001b[39mNone\u001b[39;00m\n",
      "File \u001b[1;32mc:\\Users\\tobyt\\Desktop\\Coding\\Personal\\delayedflighttracker\\env\\Lib\\site-packages\\pyensign\\ensign.py:914\u001b[0m, in \u001b[0;36msubscriber.<locals>.wrap_coroutine.<locals>.wrapper\u001b[1;34m(*args, **kwargs)\u001b[0m\n\u001b[0;32m    912\u001b[0m \u001b[39m# Subscribe to the topic and pass the generator to the coroutine\u001b[39;00m\n\u001b[0;32m    913\u001b[0m events \u001b[39m=\u001b[39m _client\u001b[39m.\u001b[39msubscribe(topics)\n\u001b[1;32m--> 914\u001b[0m \u001b[39mawait\u001b[39;00m coro(events, \u001b[39m*\u001b[39margs, \u001b[39m*\u001b[39m\u001b[39m*\u001b[39mkwargs)\n",
      "\u001b[1;32mc:\\Users\\tobyt\\Desktop\\Coding\\Personal\\delayedflighttracker\\subscribe_flights_example.ipynb Cell 9\u001b[0m line \u001b[0;36m4\n\u001b[0;32m      <a href='vscode-notebook-cell:/c%3A/Users/tobyt/Desktop/Coding/Personal/delayedflighttracker/subscribe_flights_example.ipynb#X10sZmlsZQ%3D%3D?line=0'>1</a>\u001b[0m \u001b[39m@authenticate\u001b[39m(cred_path\u001b[39m=\u001b[39mENSIGN_CREDS_PATH)\n\u001b[0;32m      <a href='vscode-notebook-cell:/c%3A/Users/tobyt/Desktop/Coding/Personal/delayedflighttracker/subscribe_flights_example.ipynb#X10sZmlsZQ%3D%3D?line=1'>2</a>\u001b[0m \u001b[39m@subscriber\u001b[39m(\u001b[39m\"\u001b[39m\u001b[39mflight-positions\u001b[39m\u001b[39m\"\u001b[39m)\n\u001b[0;32m      <a href='vscode-notebook-cell:/c%3A/Users/tobyt/Desktop/Coding/Personal/delayedflighttracker/subscribe_flights_example.ipynb#X10sZmlsZQ%3D%3D?line=2'>3</a>\u001b[0m \u001b[39masync\u001b[39;00m \u001b[39mdef\u001b[39;00m \u001b[39mget_updates\u001b[39m(updates):\n\u001b[1;32m----> <a href='vscode-notebook-cell:/c%3A/Users/tobyt/Desktop/Coding/Personal/delayedflighttracker/subscribe_flights_example.ipynb#X10sZmlsZQ%3D%3D?line=3'>4</a>\u001b[0m     \u001b[39masync\u001b[39;00m \u001b[39mfor\u001b[39;00m flight \u001b[39min\u001b[39;00m updates:\n\u001b[0;32m      <a href='vscode-notebook-cell:/c%3A/Users/tobyt/Desktop/Coding/Personal/delayedflighttracker/subscribe_flights_example.ipynb#X10sZmlsZQ%3D%3D?line=4'>5</a>\u001b[0m         \u001b[39mawait\u001b[39;00m print_update(flight)\n",
      "File \u001b[1;32mc:\\Users\\tobyt\\Desktop\\Coding\\Personal\\delayedflighttracker\\env\\Lib\\site-packages\\pyensign\\ensign.py:268\u001b[0m, in \u001b[0;36mEnsign.subscribe\u001b[1;34m(self, query, params, consumer_group, *topics)\u001b[0m\n\u001b[0;32m    265\u001b[0m         topic_ids\u001b[39m.\u001b[39mappend(topic)\n\u001b[0;32m    267\u001b[0m \u001b[39m# Yield events from the subscribe stream\u001b[39;00m\n\u001b[1;32m--> 268\u001b[0m \u001b[39masync\u001b[39;00m \u001b[39mfor\u001b[39;00m event \u001b[39min\u001b[39;00m \u001b[39mself\u001b[39m\u001b[39m.\u001b[39mclient\u001b[39m.\u001b[39msubscribe(\n\u001b[0;32m    269\u001b[0m     topic_ids,\n\u001b[0;32m    270\u001b[0m     query\u001b[39m=\u001b[39mquery,\n\u001b[0;32m    271\u001b[0m     consumer_group\u001b[39m=\u001b[39mconsumer_group,\n\u001b[0;32m    272\u001b[0m ):\n\u001b[0;32m    273\u001b[0m     \u001b[39myield\u001b[39;00m event\n",
      "File \u001b[1;32mc:\\Users\\tobyt\\Desktop\\Coding\\Personal\\delayedflighttracker\\env\\Lib\\site-packages\\pyensign\\exceptions.py:49\u001b[0m, in \u001b[0;36m_wrap_async_generator.<locals>.wrap\u001b[1;34m(*args, **kwargs)\u001b[0m\n\u001b[0;32m     46\u001b[0m \u001b[39m@wraps\u001b[39m(coro)\n\u001b[0;32m     47\u001b[0m \u001b[39masync\u001b[39;00m \u001b[39mdef\u001b[39;00m \u001b[39mwrap\u001b[39m(\u001b[39m*\u001b[39margs, \u001b[39m*\u001b[39m\u001b[39m*\u001b[39mkwargs):\n\u001b[0;32m     48\u001b[0m     \u001b[39mtry\u001b[39;00m:\n\u001b[1;32m---> 49\u001b[0m         \u001b[39masync\u001b[39;00m \u001b[39mfor\u001b[39;00m rep \u001b[39min\u001b[39;00m coro(\u001b[39m*\u001b[39margs, \u001b[39m*\u001b[39m\u001b[39m*\u001b[39mkwargs):\n\u001b[0;32m     50\u001b[0m             \u001b[39myield\u001b[39;00m rep\n\u001b[0;32m     51\u001b[0m     \u001b[39mexcept\u001b[39;00m \u001b[39mException\u001b[39;00m \u001b[39mas\u001b[39;00m e:\n",
      "File \u001b[1;32mc:\\Users\\tobyt\\Desktop\\Coding\\Personal\\delayedflighttracker\\env\\Lib\\site-packages\\pyensign\\connection.py:237\u001b[0m, in \u001b[0;36mClient.subscribe\u001b[1;34m(self, topics, query, consumer_group)\u001b[0m\n\u001b[0;32m    231\u001b[0m     \u001b[39mawait\u001b[39;00m \u001b[39mself\u001b[39m\u001b[39m.\u001b[39mpool\u001b[39m.\u001b[39mschedule(\n\u001b[0;32m    232\u001b[0m         subscriber\u001b[39m.\u001b[39mrun(),\n\u001b[0;32m    233\u001b[0m         done_callback\u001b[39m=\u001b[39m\u001b[39mlambda\u001b[39;00m: \u001b[39mself\u001b[39m\u001b[39m.\u001b[39msubscribers\u001b[39m.\u001b[39mpop(topic_hash, \u001b[39mNone\u001b[39;00m),\n\u001b[0;32m    234\u001b[0m     )\n\u001b[0;32m    236\u001b[0m \u001b[39m# Consume the events and yield them to the caller\u001b[39;00m\n\u001b[1;32m--> 237\u001b[0m \u001b[39masync\u001b[39;00m \u001b[39mfor\u001b[39;00m event \u001b[39min\u001b[39;00m subscriber\u001b[39m.\u001b[39mconsume():\n\u001b[0;32m    238\u001b[0m     \u001b[39myield\u001b[39;00m event\n",
      "File \u001b[1;32mc:\\Users\\tobyt\\Desktop\\Coding\\Personal\\delayedflighttracker\\env\\Lib\\site-packages\\pyensign\\stream.py:441\u001b[0m, in \u001b[0;36mSubscriber.consume\u001b[1;34m(self)\u001b[0m\n\u001b[0;32m    432\u001b[0m \u001b[39masync\u001b[39;00m \u001b[39mdef\u001b[39;00m \u001b[39mconsume\u001b[39m(\u001b[39mself\u001b[39m):\n\u001b[0;32m    433\u001b[0m \u001b[39m    \u001b[39m\u001b[39m\"\"\"\u001b[39;00m\n\u001b[0;32m    434\u001b[0m \u001b[39m    Consume the events from the incoming queue and yield them to the caller. This\u001b[39;00m\n\u001b[0;32m    435\u001b[0m \u001b[39m    coroutine is completely independent from the gRPC stream, so it will continue\u001b[39;00m\n\u001b[1;32m   (...)\u001b[0m\n\u001b[0;32m    438\u001b[0m \u001b[39m    caller must handle EnsignError exceptions raised from this iterator.\u001b[39;00m\n\u001b[0;32m    439\u001b[0m \u001b[39m    \"\"\"\u001b[39;00m\n\u001b[1;32m--> 441\u001b[0m     \u001b[39masync\u001b[39;00m \u001b[39mfor\u001b[39;00m rep \u001b[39min\u001b[39;00m \u001b[39mself\u001b[39m\u001b[39m.\u001b[39mqueue\u001b[39m.\u001b[39mresponses():\n\u001b[0;32m    442\u001b[0m         \u001b[39mif\u001b[39;00m \u001b[39misinstance\u001b[39m(rep, EnsignError):\n\u001b[0;32m    443\u001b[0m             \u001b[39m# Raise errors to the caller, this includes connection timeout errors\u001b[39;00m\n\u001b[0;32m    444\u001b[0m             \u001b[39m# and protocol errors\u001b[39;00m\n\u001b[0;32m    445\u001b[0m             \u001b[39mraise\u001b[39;00m rep\n",
      "File \u001b[1;32mc:\\Users\\tobyt\\Desktop\\Coding\\Personal\\delayedflighttracker\\env\\Lib\\site-packages\\pyensign\\utils\\queue.py:119\u001b[0m, in \u001b[0;36mBidiQueue.responses\u001b[1;34m(self)\u001b[0m\n\u001b[0;32m    112\u001b[0m \u001b[39m\u001b[39m\u001b[39m\"\"\"\u001b[39;00m\n\u001b[0;32m    113\u001b[0m \u001b[39mReturn responses in the queue as an async iterator. The iterator is only\u001b[39;00m\n\u001b[0;32m    114\u001b[0m \u001b[39mexhausted when the queue is closed.\u001b[39;00m\n\u001b[0;32m    115\u001b[0m \u001b[39m\"\"\"\u001b[39;00m\n\u001b[0;32m    117\u001b[0m \u001b[39mwhile\u001b[39;00m \u001b[39mnot\u001b[39;00m \u001b[39mself\u001b[39m\u001b[39m.\u001b[39m_closed\u001b[39m.\u001b[39mis_set():\n\u001b[0;32m    118\u001b[0m     \u001b[39m# Wait for a response from the queue or for the queue to be closed\u001b[39;00m\n\u001b[1;32m--> 119\u001b[0m     done, pending \u001b[39m=\u001b[39m \u001b[39mawait\u001b[39;00m asyncio\u001b[39m.\u001b[39mwait(\n\u001b[0;32m    120\u001b[0m         [\n\u001b[0;32m    121\u001b[0m             asyncio\u001b[39m.\u001b[39mensure_future(\u001b[39mself\u001b[39m\u001b[39m.\u001b[39m_response_queue\u001b[39m.\u001b[39mget()),\n\u001b[0;32m    122\u001b[0m             asyncio\u001b[39m.\u001b[39mensure_future(\u001b[39mself\u001b[39m\u001b[39m.\u001b[39m_wait_until_closed()),\n\u001b[0;32m    123\u001b[0m         ],\n\u001b[0;32m    124\u001b[0m         return_when\u001b[39m=\u001b[39masyncio\u001b[39m.\u001b[39mFIRST_COMPLETED,\n\u001b[0;32m    125\u001b[0m     )\n\u001b[0;32m    127\u001b[0m     \u001b[39m# Cancel any pending tasks\u001b[39;00m\n\u001b[0;32m    128\u001b[0m     \u001b[39mfor\u001b[39;00m task \u001b[39min\u001b[39;00m pending:\n",
      "File \u001b[1;32m~\\AppData\\Local\\Programs\\Python\\Python311\\Lib\\asyncio\\tasks.py:418\u001b[0m, in \u001b[0;36mwait\u001b[1;34m(fs, timeout, return_when)\u001b[0m\n\u001b[0;32m    415\u001b[0m     \u001b[39mraise\u001b[39;00m \u001b[39mTypeError\u001b[39;00m(\u001b[39m\"\u001b[39m\u001b[39mPassing coroutines is forbidden, use tasks explicitly.\u001b[39m\u001b[39m\"\u001b[39m)\n\u001b[0;32m    417\u001b[0m loop \u001b[39m=\u001b[39m events\u001b[39m.\u001b[39mget_running_loop()\n\u001b[1;32m--> 418\u001b[0m \u001b[39mreturn\u001b[39;00m \u001b[39mawait\u001b[39;00m _wait(fs, timeout, return_when, loop)\n",
      "File \u001b[1;32m~\\AppData\\Local\\Programs\\Python\\Python311\\Lib\\asyncio\\tasks.py:525\u001b[0m, in \u001b[0;36m_wait\u001b[1;34m(fs, timeout, return_when, loop)\u001b[0m\n\u001b[0;32m    522\u001b[0m     f\u001b[39m.\u001b[39madd_done_callback(_on_completion)\n\u001b[0;32m    524\u001b[0m \u001b[39mtry\u001b[39;00m:\n\u001b[1;32m--> 525\u001b[0m     \u001b[39mawait\u001b[39;00m waiter\n\u001b[0;32m    526\u001b[0m \u001b[39mfinally\u001b[39;00m:\n\u001b[0;32m    527\u001b[0m     \u001b[39mif\u001b[39;00m timeout_handle \u001b[39mis\u001b[39;00m \u001b[39mnot\u001b[39;00m \u001b[39mNone\u001b[39;00m:\n",
      "\u001b[1;31mCancelledError\u001b[0m: "
     ]
    }
   ],
   "source": [
    "await get_updates()\n"
   ]
  },
  {
   "cell_type": "code",
   "execution_count": 9,
   "id": "620e460e",
   "metadata": {},
   "outputs": [],
   "source": [
    "df = pd.DataFrame(training_list)\n",
    "df.to_csv(\"training_data.csv\")"
   ]
  }
 ],
 "metadata": {
  "kernelspec": {
   "display_name": "Python 3 (ipykernel)",
   "language": "python",
   "name": "python3"
  },
  "language_info": {
   "codemirror_mode": {
    "name": "ipython",
    "version": 3
   },
   "file_extension": ".py",
   "mimetype": "text/x-python",
   "name": "python",
   "nbconvert_exporter": "python",
   "pygments_lexer": "ipython3",
   "version": "3.11.4"
  }
 },
 "nbformat": 4,
 "nbformat_minor": 5
}
