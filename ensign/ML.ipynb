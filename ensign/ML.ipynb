{
 "cells": [
  {
   "cell_type": "code",
   "execution_count": 2,
   "id": "a1ed04ca-b324-4118-be08-6c31a9fe5e75",
   "metadata": {
    "tags": []
   },
   "outputs": [],
   "source": [
    "#Initial Import"
   ]
  },
  {
   "cell_type": "code",
   "execution_count": 10,
   "id": "867a834a-1c2e-4554-9d2c-9aa95fd4de5b",
   "metadata": {
    "tags": []
   },
   "outputs": [],
   "source": [
    "import pandas as pd\n",
    "\n",
    "# Read the CSV file\n",
    "data = pd.read_csv('Training_Data_v5.csv')"
   ]
  },
  {
   "cell_type": "code",
   "execution_count": 30,
   "id": "eacf0c0f-d8d7-44fc-8c39-4956a0ed005d",
   "metadata": {
    "tags": []
   },
   "outputs": [
    {
     "name": "stdout",
     "output_type": "stream",
     "text": [
      "         FlightDate                                    Airline Origin Dest  \\\n",
      "0        2022-04-04  Commutair Aka Champlain Enterprises, Inc.    GJT  DEN   \n",
      "1        2022-04-04  Commutair Aka Champlain Enterprises, Inc.    HRL  IAH   \n",
      "2        2022-04-04  Commutair Aka Champlain Enterprises, Inc.    DRO  DEN   \n",
      "3        2022-04-04  Commutair Aka Champlain Enterprises, Inc.    IAH  GPT   \n",
      "4        2022-04-04  Commutair Aka Champlain Enterprises, Inc.    DRO  DEN   \n",
      "...             ...                                        ...    ...  ...   \n",
      "4078313  2022-03-31                          Republic Airlines    MSY  EWR   \n",
      "4078314  2022-03-17                          Republic Airlines    CLT  EWR   \n",
      "4078315  2022-03-08                          Republic Airlines    ALB  ORD   \n",
      "4078316  2022-03-25                          Republic Airlines    EWR  PIT   \n",
      "4078317  2022-03-07                          Republic Airlines    EWR  RDU   \n",
      "\n",
      "         Cancelled  Diverted  CRSDepTime  DepTime  DepDelayMinutes  DepDelay  \\\n",
      "0            False     False        1133   1123.0              0.0     -10.0   \n",
      "1            False     False         732    728.0              0.0      -4.0   \n",
      "2            False     False        1529   1514.0              0.0     -15.0   \n",
      "3            False     False        1435   1430.0              0.0      -5.0   \n",
      "4            False     False        1135   1135.0              0.0       0.0   \n",
      "...            ...       ...         ...      ...              ...       ...   \n",
      "4078313      False      True        1949   2014.0             25.0      25.0   \n",
      "4078314       True     False        1733   1817.0             44.0      44.0   \n",
      "4078315      False     False        1700   2318.0            378.0     378.0   \n",
      "4078316      False      True        2129   2322.0            113.0     113.0   \n",
      "4078317      False      True        1154   1148.0              0.0      -6.0   \n",
      "\n",
      "         ...  WheelsOff  WheelsOn  TaxiIn  CRSArrTime  ArrDelay  ArrDel15  \\\n",
      "0        ...     1140.0    1220.0     8.0        1245     -17.0       0.0   \n",
      "1        ...      744.0     839.0     9.0         849      -1.0       0.0   \n",
      "2        ...     1535.0    1622.0    14.0        1639      -3.0       0.0   \n",
      "3        ...     1446.0    1543.0     4.0        1605     -18.0       0.0   \n",
      "4        ...     1154.0    1243.0     8.0        1245       6.0       0.0   \n",
      "...      ...        ...       ...     ...         ...       ...       ...   \n",
      "4078313  ...     2031.0     202.0    32.0        2354       NaN       NaN   \n",
      "4078314  ...        NaN       NaN     NaN        1942       NaN       NaN   \n",
      "4078315  ...     2337.0      52.0     7.0        1838     381.0       1.0   \n",
      "4078316  ...     2347.0     933.0     6.0        2255       NaN       NaN   \n",
      "4078317  ...     1201.0    1552.0     4.0        1333       NaN       NaN   \n",
      "\n",
      "         ArrivalDelayGroups  ArrTimeBlk  DistanceGroup  DivAirportLandings  \n",
      "0                      -2.0   1200-1259              1                   0  \n",
      "1                      -1.0   0800-0859              2                   0  \n",
      "2                      -1.0   1600-1659              2                   0  \n",
      "3                      -2.0   1600-1659              2                   0  \n",
      "4                       0.0   1200-1259              2                   0  \n",
      "...                     ...         ...            ...                 ...  \n",
      "4078313                 NaN   2300-2359              5                   1  \n",
      "4078314                 NaN   1900-1959              3                   0  \n",
      "4078315                12.0   1800-1859              3                   0  \n",
      "4078316                 NaN   2200-2259              2                   1  \n",
      "4078317                 NaN   1300-1359              2                   1  \n",
      "\n",
      "[4078318 rows x 61 columns]\n"
     ]
    }
   ],
   "source": [
    "print(data)"
   ]
  },
  {
   "cell_type": "code",
   "execution_count": 2,
   "id": "4e5b3454-4e19-4b82-8627-2e681682a4b8",
   "metadata": {
    "tags": []
   },
   "outputs": [],
   "source": [
    "from river import compose\n",
    "from river import linear_model\n",
    "from river import metrics\n",
    "from river import preprocessing\n",
    "from river import optim\n",
    "from river import stream\n"
   ]
  },
  {
   "cell_type": "code",
   "execution_count": 11,
   "id": "39cb8044-f6ee-426f-bf6c-5440cb75712b",
   "metadata": {
    "tags": []
   },
   "outputs": [],
   "source": [
    "# Step 1: Stream the data\n",
    "streaming_data = stream.iter_pandas(data)"
   ]
  },
  {
   "cell_type": "code",
   "execution_count": 12,
   "id": "b7057fae-f8c8-485d-a201-2df69feb7976",
   "metadata": {
    "tags": []
   },
   "outputs": [],
   "source": [
    "# Step 2: Data Preprocessing\n",
    "# Define selected columns\n",
    "selected_features = ['DayOfWeek', 'Operating_Airline', 'OriginAirportID', 'DestAirportID']\n",
    "target_column = 'ArrDelayMinutes'\n",
    "\n",
    "# Define categorical and numerical features\n",
    "categorical_features = ['DayOfWeek', 'Operating_Airline', 'OriginAirportID', 'DestAirportID']\n",
    "numerical_features = [target_column]\n",
    "\n",
    "# Create individual transformers\n",
    "cat_encoder = preprocessing.OneHotEncoder()\n",
    "num_scaler = preprocessing.StandardScaler()\n"
   ]
  },
  {
   "cell_type": "code",
   "execution_count": 13,
   "id": "70093b25-a1c8-447a-9af1-91d92e772830",
   "metadata": {
    "tags": []
   },
   "outputs": [],
   "source": [
    "# Create a processing pipeline\n",
    "model = compose.TransformerUnion(\n",
    "    ('cat_features', compose.Select(*categorical_features) | cat_encoder),\n",
    "    ('num_features', compose.Select(*numerical_features) | num_scaler)\n",
    ")"
   ]
  },
  {
   "cell_type": "code",
   "execution_count": null,
   "id": "a093bfed-2cf4-40ff-95f3-ab6953be3e7c",
   "metadata": {
    "tags": []
   },
   "outputs": [],
   "source": [
    "################# TRAIN MODEL OPTION 1 ##################"
   ]
  },
  {
   "cell_type": "code",
   "execution_count": 14,
   "id": "b4bdbe52-cf6e-4696-babc-868439a5aa24",
   "metadata": {
    "tags": []
   },
   "outputs": [
    {
     "ename": "ValueError",
     "evalue": "Unsupported type for data: <class 'river.compose.union.TransformerUnion'>",
     "output_type": "error",
     "traceback": [
      "\u001b[0;31m---------------------------------------------------------------------------\u001b[0m",
      "\u001b[0;31mValueError\u001b[0m                                Traceback (most recent call last)",
      "Cell \u001b[0;32mIn[14], line 15\u001b[0m\n\u001b[1;32m     12\u001b[0m x_transformed \u001b[38;5;241m=\u001b[39m model\u001b[38;5;241m.\u001b[39mlearn_one(x)\n\u001b[1;32m     14\u001b[0m \u001b[38;5;66;03m# Train the model with the transformed features\u001b[39;00m\n\u001b[0;32m---> 15\u001b[0m lr\u001b[38;5;241m.\u001b[39mlearn_one(x_transformed, y)\n\u001b[1;32m     17\u001b[0m \u001b[38;5;66;03m# Test the model on the same sample\u001b[39;00m\n\u001b[1;32m     18\u001b[0m y_pred \u001b[38;5;241m=\u001b[39m lr\u001b[38;5;241m.\u001b[39mpredict_one(x_transformed)\n",
      "File \u001b[0;32m~/anaconda3/lib/python3.11/site-packages/river/linear_model/base.py:166\u001b[0m, in \u001b[0;36mGLM.learn_one\u001b[0;34m(self, x, y, w)\u001b[0m\n\u001b[1;32m    164\u001b[0m \u001b[38;5;28;01mdef\u001b[39;00m \u001b[38;5;21mlearn_one\u001b[39m(\u001b[38;5;28mself\u001b[39m, x, y, w\u001b[38;5;241m=\u001b[39m\u001b[38;5;241m1.0\u001b[39m):\n\u001b[1;32m    165\u001b[0m     \u001b[38;5;28;01mwith\u001b[39;00m \u001b[38;5;28mself\u001b[39m\u001b[38;5;241m.\u001b[39m_learn_mode(x):\n\u001b[0;32m--> 166\u001b[0m         \u001b[38;5;28;01mreturn\u001b[39;00m \u001b[38;5;28mself\u001b[39m\u001b[38;5;241m.\u001b[39m_fit(x, y, w, get_grad\u001b[38;5;241m=\u001b[39m\u001b[38;5;28mself\u001b[39m\u001b[38;5;241m.\u001b[39m_eval_gradient_one)\n",
      "File \u001b[0;32m~/anaconda3/lib/python3.11/site-packages/river/linear_model/base.py:110\u001b[0m, in \u001b[0;36mGLM._fit\u001b[0;34m(self, x, y, w, get_grad)\u001b[0m\n\u001b[1;32m    107\u001b[0m \u001b[38;5;28mself\u001b[39m\u001b[38;5;241m.\u001b[39moptimizer\u001b[38;5;241m.\u001b[39mlook_ahead(w\u001b[38;5;241m=\u001b[39m\u001b[38;5;28mself\u001b[39m\u001b[38;5;241m.\u001b[39m_weights)\n\u001b[1;32m    109\u001b[0m \u001b[38;5;66;03m# Calculate the gradient\u001b[39;00m\n\u001b[0;32m--> 110\u001b[0m gradient, loss_gradient \u001b[38;5;241m=\u001b[39m get_grad(x, y, w)\n\u001b[1;32m    112\u001b[0m \u001b[38;5;66;03m# Update the intercept\u001b[39;00m\n\u001b[1;32m    113\u001b[0m \u001b[38;5;28mself\u001b[39m\u001b[38;5;241m.\u001b[39mintercept \u001b[38;5;241m-\u001b[39m\u001b[38;5;241m=\u001b[39m \u001b[38;5;28mself\u001b[39m\u001b[38;5;241m.\u001b[39m_get_intercept_update(loss_gradient)\n",
      "File \u001b[0;32m~/anaconda3/lib/python3.11/site-packages/river/linear_model/base.py:150\u001b[0m, in \u001b[0;36mGLM._eval_gradient_one\u001b[0;34m(self, x, y, w)\u001b[0m\n\u001b[1;32m    149\u001b[0m \u001b[38;5;28;01mdef\u001b[39;00m \u001b[38;5;21m_eval_gradient_one\u001b[39m(\u001b[38;5;28mself\u001b[39m, x: \u001b[38;5;28mdict\u001b[39m, y: \u001b[38;5;28mfloat\u001b[39m, w: \u001b[38;5;28mfloat\u001b[39m) \u001b[38;5;241m-\u001b[39m\u001b[38;5;241m>\u001b[39m \u001b[38;5;28mtuple\u001b[39m[\u001b[38;5;28mdict\u001b[39m, \u001b[38;5;28mfloat\u001b[39m]:\n\u001b[0;32m--> 150\u001b[0m     loss_gradient \u001b[38;5;241m=\u001b[39m \u001b[38;5;28mself\u001b[39m\u001b[38;5;241m.\u001b[39mloss\u001b[38;5;241m.\u001b[39mgradient(y_true\u001b[38;5;241m=\u001b[39my, y_pred\u001b[38;5;241m=\u001b[39m\u001b[38;5;28mself\u001b[39m\u001b[38;5;241m.\u001b[39m_raw_dot_one(x))\n\u001b[1;32m    151\u001b[0m     loss_gradient \u001b[38;5;241m*\u001b[39m\u001b[38;5;241m=\u001b[39m w\n\u001b[1;32m    152\u001b[0m     loss_gradient \u001b[38;5;241m=\u001b[39m \u001b[38;5;28mfloat\u001b[39m(\n\u001b[1;32m    153\u001b[0m         utils\u001b[38;5;241m.\u001b[39mmath\u001b[38;5;241m.\u001b[39mclamp(loss_gradient, \u001b[38;5;241m-\u001b[39m\u001b[38;5;28mself\u001b[39m\u001b[38;5;241m.\u001b[39mclip_gradient, \u001b[38;5;28mself\u001b[39m\u001b[38;5;241m.\u001b[39mclip_gradient)\n\u001b[1;32m    154\u001b[0m     )\n",
      "File \u001b[0;32m~/anaconda3/lib/python3.11/site-packages/river/linear_model/base.py:147\u001b[0m, in \u001b[0;36mGLM._raw_dot_one\u001b[0;34m(self, x)\u001b[0m\n\u001b[1;32m    146\u001b[0m \u001b[38;5;28;01mdef\u001b[39;00m \u001b[38;5;21m_raw_dot_one\u001b[39m(\u001b[38;5;28mself\u001b[39m, x: \u001b[38;5;28mdict\u001b[39m) \u001b[38;5;241m-\u001b[39m\u001b[38;5;241m>\u001b[39m \u001b[38;5;28mfloat\u001b[39m:\n\u001b[0;32m--> 147\u001b[0m     \u001b[38;5;28;01mreturn\u001b[39;00m \u001b[38;5;28mself\u001b[39m\u001b[38;5;241m.\u001b[39m_weights \u001b[38;5;241m@\u001b[39m utils\u001b[38;5;241m.\u001b[39mVectorDict(x) \u001b[38;5;241m+\u001b[39m \u001b[38;5;28mself\u001b[39m\u001b[38;5;241m.\u001b[39mintercept\n",
      "File \u001b[0;32m~/anaconda3/lib/python3.11/site-packages/river/utils/vectordict.pyx:124\u001b[0m, in \u001b[0;36mriver.utils.vectordict.VectorDict.__init__\u001b[0;34m()\u001b[0m\n",
      "\u001b[0;31mValueError\u001b[0m: Unsupported type for data: <class 'river.compose.union.TransformerUnion'>"
     ]
    }
   ],
   "source": [
    "# Step 3: Define and Train the Model, # Step 4: Evaluate the Model\n",
    "# Initialize the linear regression model\n",
    "\n",
    "lr = linear_model.LinearRegression()\n",
    "\n",
    "# Define metric for evaluation\n",
    "metric = metrics.MAE()  # Mean Absolute Error\n",
    "\n",
    "# Train the model and evaluate on new data\n",
    "for x, y in streaming_data:\n",
    "    # Apply transformations\n",
    "    x_transformed = model.learn_one(x)\n",
    "\n",
    "    # Train the model with the transformed features\n",
    "    lr.learn_one(x_transformed, y)\n",
    "\n",
    "    # Test the model on the same sample\n",
    "    y_pred = lr.predict_one(x_transformed)\n",
    "    metric.update(y, y_pred)\n",
    "\n",
    "# Get the mean absolute error\n",
    "mae = metric.get()\n",
    "\n",
    "# Output the mean absolute error\n",
    "print(f\"Mean Absolute Error: {mae}\")"
   ]
  },
  {
   "cell_type": "code",
   "execution_count": null,
   "id": "1b5f914b-df6d-4d71-8223-320cefc9d985",
   "metadata": {},
   "outputs": [],
   "source": [
    "#### OUTPUT ###\n",
    "\n",
    "# Function to predict delay for user input\n",
    "def predict_delay(user_input):\n",
    "    # Transform user input\n",
    "    transformed_input = model.learn_one(user_input)\n",
    "\n",
    "    # Predict the delay using the trained model\n",
    "    predicted_delay = lr.predict_one(transformed_input)\n",
    "\n",
    "    return predicted_delay\n",
    "\n",
    "# User input to predict delay\n",
    "user_input = {\n",
    "    'DayOfWeek': 'Monday',\n",
    "    'Operating_Airline': 'ABC Airlines',\n",
    "    'OriginAirportID': 'JFK',\n",
    "    'DestAirportID': 'LAX',\n",
    "    'ArrDelayMinutes': 0  # Placeholder for target column; value doesn't matter here\n",
    "}\n",
    "\n",
    "# Get the predicted delay for user input\n",
    "predicted_delay = predict_delay(user_input)\n",
    "\n",
    "# Output the predicted delay\n",
    "print(f\"Predicted delay: {predicted_delay:.2f} minutes\")"
   ]
  }
 ],
 "metadata": {
  "kernelspec": {
   "display_name": "Python 3 (ipykernel)",
   "language": "python",
   "name": "python3"
  },
  "language_info": {
   "codemirror_mode": {
    "name": "ipython",
    "version": 3
   },
   "file_extension": ".py",
   "mimetype": "text/x-python",
   "name": "python",
   "nbconvert_exporter": "python",
   "pygments_lexer": "ipython3",
   "version": "3.11.3"
  }
 },
 "nbformat": 4,
 "nbformat_minor": 5
}
