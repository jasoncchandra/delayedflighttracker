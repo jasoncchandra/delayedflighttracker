{
 "cells": [
  {
   "cell_type": "code",
   "execution_count": 2,
   "id": "a1ed04ca-b324-4118-be08-6c31a9fe5e75",
   "metadata": {
    "tags": []
   },
   "outputs": [],
   "source": [
    "#Initial Import"
   ]
  },
  {
   "cell_type": "code",
   "execution_count": 1,
   "id": "867a834a-1c2e-4554-9d2c-9aa95fd4de5b",
   "metadata": {
    "tags": []
   },
   "outputs": [],
   "source": [
    "import pandas as pd\n",
    "\n",
    "# Read the CSV file\n",
    "data = pd.read_csv('Training_Data_v5.csv')"
   ]
  },
  {
   "cell_type": "code",
   "execution_count": 30,
   "id": "eacf0c0f-d8d7-44fc-8c39-4956a0ed005d",
   "metadata": {
    "tags": []
   },
   "outputs": [
    {
     "name": "stdout",
     "output_type": "stream",
     "text": [
      "         FlightDate                                    Airline Origin Dest  \\\n",
      "0        2022-04-04  Commutair Aka Champlain Enterprises, Inc.    GJT  DEN   \n",
      "1        2022-04-04  Commutair Aka Champlain Enterprises, Inc.    HRL  IAH   \n",
      "2        2022-04-04  Commutair Aka Champlain Enterprises, Inc.    DRO  DEN   \n",
      "3        2022-04-04  Commutair Aka Champlain Enterprises, Inc.    IAH  GPT   \n",
      "4        2022-04-04  Commutair Aka Champlain Enterprises, Inc.    DRO  DEN   \n",
      "...             ...                                        ...    ...  ...   \n",
      "4078313  2022-03-31                          Republic Airlines    MSY  EWR   \n",
      "4078314  2022-03-17                          Republic Airlines    CLT  EWR   \n",
      "4078315  2022-03-08                          Republic Airlines    ALB  ORD   \n",
      "4078316  2022-03-25                          Republic Airlines    EWR  PIT   \n",
      "4078317  2022-03-07                          Republic Airlines    EWR  RDU   \n",
      "\n",
      "         Cancelled  Diverted  CRSDepTime  DepTime  DepDelayMinutes  DepDelay  \\\n",
      "0            False     False        1133   1123.0              0.0     -10.0   \n",
      "1            False     False         732    728.0              0.0      -4.0   \n",
      "2            False     False        1529   1514.0              0.0     -15.0   \n",
      "3            False     False        1435   1430.0              0.0      -5.0   \n",
      "4            False     False        1135   1135.0              0.0       0.0   \n",
      "...            ...       ...         ...      ...              ...       ...   \n",
      "4078313      False      True        1949   2014.0             25.0      25.0   \n",
      "4078314       True     False        1733   1817.0             44.0      44.0   \n",
      "4078315      False     False        1700   2318.0            378.0     378.0   \n",
      "4078316      False      True        2129   2322.0            113.0     113.0   \n",
      "4078317      False      True        1154   1148.0              0.0      -6.0   \n",
      "\n",
      "         ...  WheelsOff  WheelsOn  TaxiIn  CRSArrTime  ArrDelay  ArrDel15  \\\n",
      "0        ...     1140.0    1220.0     8.0        1245     -17.0       0.0   \n",
      "1        ...      744.0     839.0     9.0         849      -1.0       0.0   \n",
      "2        ...     1535.0    1622.0    14.0        1639      -3.0       0.0   \n",
      "3        ...     1446.0    1543.0     4.0        1605     -18.0       0.0   \n",
      "4        ...     1154.0    1243.0     8.0        1245       6.0       0.0   \n",
      "...      ...        ...       ...     ...         ...       ...       ...   \n",
      "4078313  ...     2031.0     202.0    32.0        2354       NaN       NaN   \n",
      "4078314  ...        NaN       NaN     NaN        1942       NaN       NaN   \n",
      "4078315  ...     2337.0      52.0     7.0        1838     381.0       1.0   \n",
      "4078316  ...     2347.0     933.0     6.0        2255       NaN       NaN   \n",
      "4078317  ...     1201.0    1552.0     4.0        1333       NaN       NaN   \n",
      "\n",
      "         ArrivalDelayGroups  ArrTimeBlk  DistanceGroup  DivAirportLandings  \n",
      "0                      -2.0   1200-1259              1                   0  \n",
      "1                      -1.0   0800-0859              2                   0  \n",
      "2                      -1.0   1600-1659              2                   0  \n",
      "3                      -2.0   1600-1659              2                   0  \n",
      "4                       0.0   1200-1259              2                   0  \n",
      "...                     ...         ...            ...                 ...  \n",
      "4078313                 NaN   2300-2359              5                   1  \n",
      "4078314                 NaN   1900-1959              3                   0  \n",
      "4078315                12.0   1800-1859              3                   0  \n",
      "4078316                 NaN   2200-2259              2                   1  \n",
      "4078317                 NaN   1300-1359              2                   1  \n",
      "\n",
      "[4078318 rows x 61 columns]\n"
     ]
    }
   ],
   "source": [
    "print(data)"
   ]
  },
  {
   "cell_type": "code",
   "execution_count": 2,
   "id": "4e5b3454-4e19-4b82-8627-2e681682a4b8",
   "metadata": {
    "tags": []
   },
   "outputs": [],
   "source": [
    "from river import compose\n",
    "from river import linear_model\n",
    "from river import metrics\n",
    "from river import preprocessing\n",
    "from river import optim\n",
    "from river import stream\n"
   ]
  },
  {
   "cell_type": "code",
   "execution_count": 3,
   "id": "39cb8044-f6ee-426f-bf6c-5440cb75712b",
   "metadata": {
    "tags": []
   },
   "outputs": [],
   "source": [
    "# Step 1: Stream the data\n",
    "streaming_data = stream.iter_pandas(data)"
   ]
  },
  {
   "cell_type": "code",
   "execution_count": 4,
   "id": "b7057fae-f8c8-485d-a201-2df69feb7976",
   "metadata": {
    "tags": []
   },
   "outputs": [],
   "source": [
    "# Step 2: Data Preprocessing\n",
    "# Define selected columns\n",
    "selected_features = ['DayOfWeek', 'Operating_Airline', 'OriginAirportID', 'DestAirportID']\n",
    "target_column = 'ArrDelayMinutes'\n",
    "\n",
    "# Define categorical and numerical features\n",
    "categorical_features = ['DayOfWeek', 'Operating_Airline', 'OriginAirportID', 'DestAirportID']\n",
    "numerical_features = [target_column]\n",
    "\n",
    "# Create individual transformers\n",
    "cat_encoder = preprocessing.OneHotEncoder()\n",
    "num_scaler = preprocessing.StandardScaler()\n"
   ]
  },
  {
   "cell_type": "code",
   "execution_count": 5,
   "id": "70093b25-a1c8-447a-9af1-91d92e772830",
   "metadata": {
    "tags": []
   },
   "outputs": [],
   "source": [
    "# Create a processing pipeline\n",
    "model = compose.TransformerUnion(\n",
    "    ('cat_features', compose.Select(*categorical_features) | cat_encoder),\n",
    "    ('num_features', compose.Select(*numerical_features) | num_scaler)\n",
    ")"
   ]
  },
  {
   "cell_type": "code",
   "execution_count": null,
   "id": "a093bfed-2cf4-40ff-95f3-ab6953be3e7c",
   "metadata": {
    "tags": []
   },
   "outputs": [],
   "source": [
    "################# TRAIN MODEL OPTION 1 ##################\n",
    "\n",
    "# Apply transformations\n",
    "transformed_data = []\n",
    "for x, y in streaming_data:  # Loop through your dataset\n",
    "    transformed_row = model.learn_one(x)\n",
    "    transformed_data.append(transformed_row)"
   ]
  },
  {
   "cell_type": "code",
   "execution_count": null,
   "id": "8bd901fb-3ef8-441b-8989-6237c27aa2a9",
   "metadata": {},
   "outputs": [],
   "source": [
    "# Step 3: Define and Train the Model\n",
    "\n",
    "# Initialize the linear regression model\n",
    "lr = linear_model.LinearRegression()\n",
    "\n",
    "# Train the model\n",
    "for row in transformed_data:\n",
    "    y = row[target_column]\n",
    "    x = {key: row[key] for key in selected_features}\n",
    "    lr.learn_one(x, y)\n",
    "\n"
   ]
  },
  {
   "cell_type": "code",
   "execution_count": null,
   "id": "1b37b65b-0109-4af3-96cb-5e7f1c6b54ac",
   "metadata": {},
   "outputs": [],
   "source": [
    "# Step 4: Evaluate the Model\n",
    "\n",
    "# Define metric for evaluation\n",
    "metric = metrics.MAE()  # Mean Absolute Error\n",
    "\n",
    "# Test the model on new data\n",
    "for row in transformed_data:\n",
    "    y = row[target_column]\n",
    "    x = {key: row[key] for key in selected_features}\n",
    "    y_pred = lr.predict_one(x)\n",
    "    metric.update(y, y_pred)\n",
    "\n",
    "# Get the mean absolute error\n",
    "mae = metric.get()\n",
    "\n",
    "# Output the mean absolute error\n",
    "print(f\"Mean Absolute Error: {mae}\")"
   ]
  },
  {
   "cell_type": "code",
   "execution_count": null,
   "id": "b4bdbe52-cf6e-4696-babc-868439a5aa24",
   "metadata": {
    "tags": []
   },
   "outputs": [],
   "source": [
    "######### ALTERNATIVE AND MIGHT BE BETTER AND SIMULATES REAL TIME: #######\n",
    "# Initialize the linear regression model\n",
    "lr = linear_model.LinearRegression()\n",
    "\n",
    "# Define metric for evaluation\n",
    "metric = metrics.MAE()  # Mean Absolute Error\n",
    "\n",
    "# Train the model and evaluate on new data\n",
    "for x, y in streaming_data:  # Loop through your dataset\n",
    "    # Apply transformations\n",
    "    x_transformed = model.learn_one(x)\n",
    "\n",
    "    # Train the model with the new sample\n",
    "    lr.learn_one(x_transformed, y)\n",
    "\n",
    "    # Test the model on the same sample\n",
    "    y_pred = lr.predict_one(x_transformed)\n",
    "    metric.update(y, y_pred)\n",
    "\n",
    "# Get the mean absolute error\n",
    "mae = metric.get()\n",
    "\n",
    "# Output the mean absolute error\n",
    "print(f\"Mean Absolute Error: {mae}\")\n",
    "\n"
   ]
  },
  {
   "cell_type": "code",
   "execution_count": null,
   "id": "1b5f914b-df6d-4d71-8223-320cefc9d985",
   "metadata": {},
   "outputs": [],
   "source": [
    "#### OUTPUT ###\n",
    "\n",
    "# Function to predict delay for user input\n",
    "def predict_delay(user_input):\n",
    "    # Transform user input\n",
    "    transformed_input = model.learn_one(user_input)\n",
    "\n",
    "    # Predict the delay using the trained model\n",
    "    predicted_delay = lr.predict_one(transformed_input)\n",
    "\n",
    "    return predicted_delay\n",
    "\n",
    "# User input to predict delay\n",
    "user_input = {\n",
    "    'DayOfWeek': 'Monday',\n",
    "    'Operating_Airline': 'ABC Airlines',\n",
    "    'OriginAirportID': 'JFK',\n",
    "    'DestAirportID': 'LAX',\n",
    "    'ArrDelayMinutes': 0  # Placeholder for target column; value doesn't matter here\n",
    "}\n",
    "\n",
    "# Get the predicted delay for user input\n",
    "predicted_delay = predict_delay(user_input)\n",
    "\n",
    "# Output the predicted delay\n",
    "print(f\"Predicted delay: {predicted_delay:.2f} minutes\")"
   ]
  }
 ],
 "metadata": {
  "kernelspec": {
   "display_name": "Python 3 (ipykernel)",
   "language": "python",
   "name": "python3"
  },
  "language_info": {
   "codemirror_mode": {
    "name": "ipython",
    "version": 3
   },
   "file_extension": ".py",
   "mimetype": "text/x-python",
   "name": "python",
   "nbconvert_exporter": "python",
   "pygments_lexer": "ipython3",
   "version": "3.11.3"
  }
 },
 "nbformat": 4,
 "nbformat_minor": 5
}
