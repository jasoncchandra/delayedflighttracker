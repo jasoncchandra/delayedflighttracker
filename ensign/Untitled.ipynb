{
 "cells": [
  {
   "cell_type": "code",
   "execution_count": 4,
   "id": "bdf1442a-6f90-40bd-899a-64cd9983cf0a",
   "metadata": {
    "tags": []
   },
   "outputs": [],
   "source": [
    "import csv\n",
    "\n",
    "def copy_first_1000_rows(input_file, output_file):\n",
    "    with open(input_file, 'r', newline='') as input_csv, open(output_file, 'w', newline='') as output_csv:\n",
    "        reader = csv.reader(input_csv)\n",
    "        writer = csv.writer(output_csv)\n",
    "        \n",
    "        # Write the header row if present in the input CSV file\n",
    "        header = next(reader, None)\n",
    "        if header:\n",
    "            writer.writerow(header)\n",
    "        \n",
    "        # Write the first 1000 rows\n",
    "        count = 0\n",
    "        for row in reader:\n",
    "            writer.writerow(row)\n",
    "            count += 1\n",
    "            if count >= 70000:\n",
    "                break\n",
    "\n",
    "# Replace 'input.csv' with your input CSV file name and 'output.csv' with the desired output file name.\n",
    "copy_first_1000_rows('Training_Data_v5.csv', 'Training_Data_v5_compressed.csv')\n"
   ]
  },
  {
   "cell_type": "code",
   "execution_count": null,
   "id": "4e41da94-b918-46b7-9426-5a637ddeecff",
   "metadata": {},
   "outputs": [],
   "source": []
  }
 ],
 "metadata": {
  "kernelspec": {
   "display_name": "Python 3 (ipykernel)",
   "language": "python",
   "name": "python3"
  },
  "language_info": {
   "codemirror_mode": {
    "name": "ipython",
    "version": 3
   },
   "file_extension": ".py",
   "mimetype": "text/x-python",
   "name": "python",
   "nbconvert_exporter": "python",
   "pygments_lexer": "ipython3",
   "version": "3.11.3"
  }
 },
 "nbformat": 4,
 "nbformat_minor": 5
}
