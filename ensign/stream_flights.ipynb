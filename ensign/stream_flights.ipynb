{
 "cells": [
  {
   "cell_type": "code",
   "execution_count": 10,
   "metadata": {},
   "outputs": [],
   "source": [
    "import pandas as pd\n",
    "import json\n",
    "\n",
    "from pyensign.ensign import authenticate, subscriber"
   ]
  },
  {
   "cell_type": "code",
   "execution_count": 11,
   "metadata": {},
   "outputs": [],
   "source": [
    "ENSIGN_CREDS_PATH=\"ensign-creds.json\""
   ]
  },
  {
   "cell_type": "code",
   "execution_count": 12,
   "metadata": {},
   "outputs": [],
   "source": [
    "training_list = []"
   ]
  },
  {
   "cell_type": "code",
   "execution_count": 13,
   "metadata": {},
   "outputs": [],
   "source": [
    "@authenticate(cred_path=ENSIGN_CREDS_PATH)\n",
    "@subscriber(\"Flights-json\")\n",
    "async def get_updates(updates):\n",
    "    async for flight in updates:\n",
    "        print(f\"{type(flight)} -- {flight}\")\n",
    "        flight_event = json.loads(flight_event.data)\n",
    "        print(flight_event)\n",
    "        \n",
    "        # capturing data locally (for training) - remove when streaming\n",
    "        training_list.append(list(flight_event.values()))"
   ]
  },
  {
   "cell_type": "code",
   "execution_count": 14,
   "metadata": {},
   "outputs": [
    {
     "name": "stdout",
     "output_type": "stream",
     "text": [
      "<class 'pyensign.events.Event'> -- Event:\n",
      "\tid: b'\\x01\\x8b>\\x9e\\t%\\x00Lqp'\n",
      "\tdata: b'{\"icao24\": \"aa56d8\", \"callsign\": \"UAL1550 \", \"origin_country\": \"United States\", \"time_position\": 1...\n",
      "\tmimetype: application/json\n",
      "\tschema: Unknown v0.0.0\n",
      "\tstate: EventState.SUBSCRIBED\n",
      "\tcreated: 2023-10-17 12:10:25\n"
     ]
    },
    {
     "ename": "UnboundLocalError",
     "evalue": "cannot access local variable 'flight_event' where it is not associated with a value",
     "output_type": "error",
     "traceback": [
      "\u001b[1;31m---------------------------------------------------------------------------\u001b[0m",
      "\u001b[1;31mUnboundLocalError\u001b[0m                         Traceback (most recent call last)",
      "\u001b[1;32mc:\\Users\\tobyt\\Desktop\\Coding\\Personal\\delayedflighttracker\\ensign\\stream_flights.ipynb Cell 5\u001b[0m line \u001b[0;36m1\n\u001b[1;32m----> <a href='vscode-notebook-cell:/c%3A/Users/tobyt/Desktop/Coding/Personal/delayedflighttracker/ensign/stream_flights.ipynb#W3sZmlsZQ%3D%3D?line=0'>1</a>\u001b[0m \u001b[39mawait\u001b[39;00m get_updates()\n",
      "File \u001b[1;32mc:\\Users\\tobyt\\Desktop\\Coding\\Personal\\delayedflighttracker\\env\\Lib\\site-packages\\pyensign\\ensign.py:724\u001b[0m, in \u001b[0;36mauthenticate.<locals>.wrap_coroutine.<locals>.wrapper\u001b[1;34m(*args, **kwargs)\u001b[0m\n\u001b[0;32m    722\u001b[0m \u001b[39mexcept\u001b[39;00m \u001b[39mException\u001b[39;00m \u001b[39mas\u001b[39;00m e:\n\u001b[0;32m    723\u001b[0m     _client \u001b[39m=\u001b[39m \u001b[39mNone\u001b[39;00m\n\u001b[1;32m--> 724\u001b[0m     \u001b[39mraise\u001b[39;00m e\n\u001b[0;32m    726\u001b[0m \u001b[39mawait\u001b[39;00m _client\u001b[39m.\u001b[39mclose()\n\u001b[0;32m    727\u001b[0m _client \u001b[39m=\u001b[39m \u001b[39mNone\u001b[39;00m\n",
      "File \u001b[1;32mc:\\Users\\tobyt\\Desktop\\Coding\\Personal\\delayedflighttracker\\env\\Lib\\site-packages\\pyensign\\ensign.py:721\u001b[0m, in \u001b[0;36mauthenticate.<locals>.wrap_coroutine.<locals>.wrapper\u001b[1;34m(*args, **kwargs)\u001b[0m\n\u001b[0;32m    719\u001b[0m     \u001b[39masync\u001b[39;00m \u001b[39mwith\u001b[39;00m Ensign(\u001b[39m*\u001b[39mauth_args, \u001b[39m*\u001b[39m\u001b[39m*\u001b[39mauth_kwargs) \u001b[39mas\u001b[39;00m client:\n\u001b[0;32m    720\u001b[0m         _client \u001b[39m=\u001b[39m client\n\u001b[1;32m--> 721\u001b[0m         res \u001b[39m=\u001b[39m \u001b[39mawait\u001b[39;00m coro(\u001b[39m*\u001b[39margs, \u001b[39m*\u001b[39m\u001b[39m*\u001b[39mkwargs)\n\u001b[0;32m    722\u001b[0m \u001b[39mexcept\u001b[39;00m \u001b[39mException\u001b[39;00m \u001b[39mas\u001b[39;00m e:\n\u001b[0;32m    723\u001b[0m     _client \u001b[39m=\u001b[39m \u001b[39mNone\u001b[39;00m\n",
      "File \u001b[1;32mc:\\Users\\tobyt\\Desktop\\Coding\\Personal\\delayedflighttracker\\env\\Lib\\site-packages\\pyensign\\ensign.py:914\u001b[0m, in \u001b[0;36msubscriber.<locals>.wrap_coroutine.<locals>.wrapper\u001b[1;34m(*args, **kwargs)\u001b[0m\n\u001b[0;32m    912\u001b[0m \u001b[39m# Subscribe to the topic and pass the generator to the coroutine\u001b[39;00m\n\u001b[0;32m    913\u001b[0m events \u001b[39m=\u001b[39m _client\u001b[39m.\u001b[39msubscribe(topics)\n\u001b[1;32m--> 914\u001b[0m \u001b[39mawait\u001b[39;00m coro(events, \u001b[39m*\u001b[39margs, \u001b[39m*\u001b[39m\u001b[39m*\u001b[39mkwargs)\n",
      "\u001b[1;32mc:\\Users\\tobyt\\Desktop\\Coding\\Personal\\delayedflighttracker\\ensign\\stream_flights.ipynb Cell 5\u001b[0m line \u001b[0;36m6\n\u001b[0;32m      <a href='vscode-notebook-cell:/c%3A/Users/tobyt/Desktop/Coding/Personal/delayedflighttracker/ensign/stream_flights.ipynb#W3sZmlsZQ%3D%3D?line=3'>4</a>\u001b[0m \u001b[39masync\u001b[39;00m \u001b[39mfor\u001b[39;00m flight \u001b[39min\u001b[39;00m updates:\n\u001b[0;32m      <a href='vscode-notebook-cell:/c%3A/Users/tobyt/Desktop/Coding/Personal/delayedflighttracker/ensign/stream_flights.ipynb#W3sZmlsZQ%3D%3D?line=4'>5</a>\u001b[0m     \u001b[39mprint\u001b[39m(\u001b[39mf\u001b[39m\u001b[39m\"\u001b[39m\u001b[39m{\u001b[39;00m\u001b[39mtype\u001b[39m(flight)\u001b[39m}\u001b[39;00m\u001b[39m -- \u001b[39m\u001b[39m{\u001b[39;00mflight\u001b[39m}\u001b[39;00m\u001b[39m\"\u001b[39m)\n\u001b[1;32m----> <a href='vscode-notebook-cell:/c%3A/Users/tobyt/Desktop/Coding/Personal/delayedflighttracker/ensign/stream_flights.ipynb#W3sZmlsZQ%3D%3D?line=5'>6</a>\u001b[0m     flight_event \u001b[39m=\u001b[39m json\u001b[39m.\u001b[39mloads(flight_event\u001b[39m.\u001b[39mdata)\n\u001b[0;32m      <a href='vscode-notebook-cell:/c%3A/Users/tobyt/Desktop/Coding/Personal/delayedflighttracker/ensign/stream_flights.ipynb#W3sZmlsZQ%3D%3D?line=6'>7</a>\u001b[0m     \u001b[39mprint\u001b[39m(flight_event)\n\u001b[0;32m      <a href='vscode-notebook-cell:/c%3A/Users/tobyt/Desktop/Coding/Personal/delayedflighttracker/ensign/stream_flights.ipynb#W3sZmlsZQ%3D%3D?line=8'>9</a>\u001b[0m     \u001b[39m# capturing data locally (for training) - remove when streaming\u001b[39;00m\n",
      "\u001b[1;31mUnboundLocalError\u001b[0m: cannot access local variable 'flight_event' where it is not associated with a value"
     ]
    }
   ],
   "source": [
    "await get_updates()"
   ]
  },
  {
   "cell_type": "code",
   "execution_count": null,
   "metadata": {},
   "outputs": [],
   "source": [
    "# For local storage - remove when streaming\n",
    "training_df = pd.DataFrame(training_list)\n",
    "training_df.to_csv(\"training_data_v4.csv\")"
   ]
  }
 ],
 "metadata": {
  "kernelspec": {
   "display_name": "env",
   "language": "python",
   "name": "python3"
  },
  "language_info": {
   "codemirror_mode": {
    "name": "ipython",
    "version": 3
   },
   "file_extension": ".py",
   "mimetype": "text/x-python",
   "name": "python",
   "nbconvert_exporter": "python",
   "pygments_lexer": "ipython3",
   "version": "3.11.4"
  }
 },
 "nbformat": 4,
 "nbformat_minor": 2
}
