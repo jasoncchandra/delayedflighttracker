{
 "cells": [
  {
   "cell_type": "code",
   "execution_count": 1,
   "metadata": {},
   "outputs": [],
   "source": [
    "import pandas as pd\n",
    "import json\n",
    "import time\n",
    "\n",
    "from pyensign.ensign import authenticate, subscriber"
   ]
  },
  {
   "cell_type": "code",
   "execution_count": 2,
   "metadata": {},
   "outputs": [],
   "source": [
    "ENSIGN_CREDS_PATH=\"ensign-creds.json\""
   ]
  },
  {
   "cell_type": "code",
   "execution_count": 3,
   "metadata": {},
   "outputs": [],
   "source": [
    "training_list = []\n"
   ]
  },
  {
   "cell_type": "code",
   "execution_count": 4,
   "metadata": {},
   "outputs": [],
   "source": [
    "@authenticate(cred_path=ENSIGN_CREDS_PATH)\n",
    "@subscriber(\"Flights-json\")\n",
    "async def get_updates(updates, count = 0):\n",
    "    async for flight in updates:\n",
    "        flight_event = json.loads(flight.data)\n",
    "        \n",
    "        print(f\"({count}) {flight_event['callsign']} -- flying from {flight_event['origin_airport_icao']} to {flight_event['destination_airport_icao']}\")\n",
    "        \n",
    "        count += 1"
   ]
  },
  {
   "cell_type": "code",
   "execution_count": 5,
   "metadata": {},
   "outputs": [
    {
     "name": "stdout",
     "output_type": "stream",
     "text": [
      "(0) UAL2199  -- flying from KDEN to KSNA\n",
      "(1) UAL2416  -- flying from KLAS to KSFO\n",
      "(2) JBU161   -- flying from KJFK to KSMF\n",
      "(3) FFT456   -- flying from KDEN to KATL\n",
      "(4) UAL1012  -- flying from KSLC to KSFO\n",
      "(5) NKS1268  -- flying from KIAH to KLAX\n",
      "(6) UAL2259  -- flying from KIAH to KSNA\n",
      "(7) UAL475   -- flying from KDEN to KIAH\n",
      "(8) UAL1424  -- flying from KORD to KAUS\n",
      "(9) FFT2786  -- flying from KSEA to KPHX\n",
      "(10) SKW5598  -- flying from Unknown to Unknown\n",
      "(11) SKW3183  -- flying from Unknown to Unknown\n",
      "(12) UAL333   -- flying from KBOS to KLAX\n",
      "(13) SKW4861  -- flying from Unknown to Unknown\n",
      "(14) UAL2424  -- flying from KEWR to KLAX\n",
      "(15) FFT750   -- flying from Unknown to Unknown\n",
      "(16) FFT552   -- flying from KSAN to KDEN\n",
      "(17) JBU1211  -- flying from KJFK to KLAS\n",
      "(18) UAL1437  -- flying from KDEN to KLAS\n",
      "(19) UAL548   -- flying from KBWI to KSFO\n",
      "(20) ASA372   -- flying from KSEA to KDFW\n"
     ]
    }
   ],
   "source": [
    "await get_updates()"
   ]
  }
 ],
 "metadata": {
  "kernelspec": {
   "display_name": "env",
   "language": "python",
   "name": "python3"
  },
  "language_info": {
   "codemirror_mode": {
    "name": "ipython",
    "version": 3
   },
   "file_extension": ".py",
   "mimetype": "text/x-python",
   "name": "python",
   "nbconvert_exporter": "python",
   "pygments_lexer": "ipython3",
   "version": "3.11.4"
  }
 },
 "nbformat": 4,
 "nbformat_minor": 2
}
