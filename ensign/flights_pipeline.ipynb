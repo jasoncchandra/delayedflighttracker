{
 "cells": [
  {
   "cell_type": "code",
   "execution_count": 1,
   "id": "b1746f2d-598e-4591-b4b7-071a1b270e05",
   "metadata": {},
   "outputs": [],
   "source": [
    "import json\n",
    "import pandas as pd\n",
    "import concurrent.futures\n",
    "\n",
    "from airline_class import Flight\n",
    "\n",
    "from pyensign.ensign import authenticate, publisher, subscriber\n",
    "from FlightRadar24 import FlightRadar24API"
   ]
  },
  {
   "cell_type": "markdown",
   "id": "8f48b1bc-5c70-49a3-8883-b7d211e10503",
   "metadata": {},
   "source": [
    "# Configuration"
   ]
  },
  {
   "cell_type": "code",
   "execution_count": 2,
   "id": "487ae15d-a15b-4638-98c1-e19ed5181fe2",
   "metadata": {},
   "outputs": [],
   "source": [
    "ENSIGN_CREDS_PATH=\"ensign-creds.json\"\n",
    "FLIGHTRADAR_CREDS_PATH = \"flightradar-creds.json\"\n",
    "\n",
    "def auth():    \n",
    "    with open(FLIGHTRADAR_CREDS_PATH) as f:\n",
    "        creds = json.load(f)\n",
    "        user = creds[\"user\"]\n",
    "        password = creds[\"password\"]\n",
    "    return user, password\n",
    "    \n",
    "user, password = auth()\n",
    "fr_api = FlightRadar24API(user=user, password=password)"
   ]
  },
  {
   "cell_type": "code",
   "execution_count": 3,
   "id": "0d9417b5-e05f-4bac-8f98-980a7317d685",
   "metadata": {},
   "outputs": [],
   "source": [
    "callsigns = {}\n",
    "training_list = []\n",
    "\n",
    "# TODO: implement multithreading for faster execution of fr24 \n",
    "# pool = concurrent.futures.ThreadPoolExecutor(max_workers=50)"
   ]
  },
  {
   "cell_type": "code",
   "execution_count": 4,
   "id": "cec2ed2b",
   "metadata": {},
   "outputs": [],
   "source": [
    "def return_class_variables(Flight):\n",
    "    return (Flight.__dict__)"
   ]
  },
  {
   "cell_type": "code",
   "execution_count": 5,
   "id": "79c4bf92",
   "metadata": {},
   "outputs": [],
   "source": [
    "def get_fr24_instance(airline_icao, icao24, latitude, longitude):\n",
    "    # finding plane through tight bounds\n",
    "    flight_bound = \",\".join([str(latitude+1), str(latitude-1), str(longitude-1), str(longitude+1)])\n",
    "\n",
    "    fr24_instance = fr_api.get_flights(airline=airline_icao, bounds=flight_bound)\n",
    "\n",
    "# TODO: fix the bound tuner - process gets stuck inside here\n",
    "    # limit = 0\n",
    "    # while len(fr24_instance) != 1 or limit == 4:\n",
    "    #     limit += 1\n",
    "    #     if len(fr24_instance) < 1:\n",
    "    #         flight_bound = \",\".join([str(latitude+0.5), str(latitude-0.5), str(longitude-0.5), str(longitude+0.5)])\n",
    "    #     if len(fr24_instance) > 1:\n",
    "    #         flight_bound = \",\".join([str(latitude+0.125), str(latitude-0.125), str(longitude-0.125), str(longitude+0.125)])\n",
    "    #     fr24_instance = fr_api.get_flights(airline=airline_icao, bounds=flight_bound)\n",
    "    \n",
    "    if len(fr24_instance) == 0:\n",
    "        return None\n",
    "    \n",
    "    # get flight details\n",
    "    for flight in fr24_instance:\n",
    "\n",
    "        #TODO: Error is here - flightradarapi crashes\n",
    "        flight_details = fr_api.get_flight_details(flight)\n",
    "\n",
    "        flight.set_flight_details(flight_details)\n",
    "\n",
    "        # match correct instance\n",
    "        if icao24.upper() == flight.icao_24bit:\n",
    "\n",
    "            time_details = flight.time_details\n",
    "\n",
    "            # airport\n",
    "            origin_airport_icao = flight.origin_airport_icao\n",
    "            destination_airport_icao = flight.destination_airport_icao\n",
    "\n",
    "            # time\n",
    "            scheduled_departure = time_details[\"scheduled\"][\"departure\"]\n",
    "            scheduled_arrival = time_details[\"scheduled\"][\"arrival\"]\n",
    "            actual_departure = time_details[\"real\"][\"departure\"]\n",
    "            estimated_arrival = time_details[\"estimated\"][\"arrival\"]\n",
    "            historical_flight_time = time_details[\"historical\"][\"flighttime\"]\n",
    "            historical_delay = time_details[\"historical\"][\"delay\"]\n",
    "            \n",
    "            return {\n",
    "                \"origin_airport_icao\" : origin_airport_icao,\n",
    "                \"destination_airport_icao\" : destination_airport_icao,\n",
    "                \"scheduled_departure\" : scheduled_departure,\n",
    "                \"scheduled_arrival\" : scheduled_arrival,\n",
    "                \"actual_departure\" : actual_departure,\n",
    "                \"estimated_arrival\" : estimated_arrival,\n",
    "                \"historical_flight_time\" : historical_flight_time,\n",
    "                \"historical_delay\" : historical_delay\n",
    "            }\n",
    "\n",
    "    \n"
   ]
  },
  {
   "cell_type": "code",
   "execution_count": 6,
   "id": "92bfa004",
   "metadata": {},
   "outputs": [],
   "source": [
    "# Removed SWA (Southwest Airlines) - fail to enter registration info\n",
    "# Removed AAL (American Airlines) - unreliable transponder placement on domestic flights (cannot correctly determine location)\n",
    "\n",
    "flight_convert = {\n",
    "    \"ASA\": \"Alaska Airlines\", \n",
    "    \"AAY\": \"Allegiant Air\", \n",
    "    \"DAL\": \"Delta Air Lines\",\n",
    "    \"FFT\": \"Frontier Airlines\",\t\n",
    "    \"HAL\": \"Hawaiian Airlines\",\t\n",
    "    \"JBU\": \"JetBlue\",\n",
    "    \"NKS\": \"Spirit Airlines\",\n",
    "    \"UAL\": \"United Airlines\",\n",
    "    \"ENY\": \"Envoy Air\",\n",
    "    \"RPA\": \"Republic Airways\",\n",
    "    \"SKW\": \"SkyWest Airlines\"\n",
    "}\n"
   ]
  },
  {
   "cell_type": "markdown",
   "id": "647fc5ae",
   "metadata": {},
   "source": [
    "# Subscribe to Flight Updates"
   ]
  },
  {
   "cell_type": "code",
   "execution_count": 7,
   "id": "f9e7df70-4165-4a26-bb9a-063e0cc7f484",
   "metadata": {},
   "outputs": [],
   "source": [
    "@authenticate(cred_path=ENSIGN_CREDS_PATH)\n",
    "@subscriber(\"flight-positions\")\n",
    "async def get_updates(updates):\n",
    "    async for flight in updates:\n",
    "        await print_update(flight)\n",
    "   \n",
    "@publisher(\"Flights-json\")\n",
    "async def print_update(flight_event):\n",
    "    flight = json.loads(flight_event.data)\n",
    "    flight_instance = Flight(flight['icao24'])\n",
    "    flight_instance.store_ensign_data(flight)\n",
    "    \n",
    "    airline_icao = flight_instance.airline_icao\n",
    "    aircraft_icao = flight_instance.icao24\n",
    "\n",
    "    # getting flightradar24 data\n",
    "    # checking airline ICAO - only want major US carrier data\n",
    "    if airline_icao in flight_convert:\n",
    "        flight_instance.airline = flight_convert[airline_icao]\n",
    "        print(flight_instance.callsign)\n",
    "        fr24_instance = get_fr24_instance(airline_icao, aircraft_icao, flight_instance.latitude, flight_instance.longitude)\n",
    "        \n",
    "        if fr24_instance is not None:\n",
    "            flight_instance.store_fr24_data(fr24_instance)\n",
    "    \n",
    "        flight_dict = return_class_variables(flight_instance)\n",
    "        print(flight_dict)\n",
    "    \n",
    "        return flight_dict"
   ]
  },
  {
   "cell_type": "code",
   "execution_count": 8,
   "id": "1abe6aac-42d0-4b56-adfc-ac48fb0356c5",
   "metadata": {},
   "outputs": [
    {
     "name": "stdout",
     "output_type": "stream",
     "text": [
      "UAL2199 \n",
      "{'icao24': 'aa56d8', 'origin_airport_icao': 'KDEN', 'destination_airport_icao': 'KSNA', 'scheduled_departure': 1697592780, 'scheduled_arrival': 1697601660, 'actual_departure': 1697594012, 'estimated_arrival': 1697600603, 'historical_flight_time': '6838', 'historical_delay': '-1027', 'callsign': 'UAL2199 ', 'airline_icao': 'UAL', 'origin_country': 'United States', 'time_position': 1697599863, 'last_contact': 1697599863, 'longitude': -117.1392, 'latitude': 34.1031, 'geo_altitude': 4152.9, 'on_ground': False, 'true_track': 204.35, 'velocity': 160.94, 'vertical_rate': 0.0, 'sensors': None, 'barometric_altitude': 3977.64, 'transponder_code': None, 'special_purpose_indicator': False, 'position_source': 0, 'category': 4, 'airline': 'United Airlines'}\n",
      "UAL2416 \n",
      "{'icao24': 'aa56d5', 'origin_airport_icao': 'KLAS', 'destination_airport_icao': 'KSFO', 'scheduled_departure': 1697596860, 'scheduled_arrival': 1697602740, 'actual_departure': 1697597786, 'estimated_arrival': 1697601792, 'historical_flight_time': '4006', 'historical_delay': '-366', 'callsign': 'UAL2416 ', 'airline_icao': 'UAL', 'origin_country': 'United States', 'time_position': 1697599863, 'last_contact': 1697599863, 'longitude': -118.9981, 'latitude': 37.6082, 'geo_altitude': 10241.28, 'on_ground': False, 'true_track': 275.09, 'velocity': 231.9, 'vertical_rate': 0.0, 'sensors': None, 'barometric_altitude': 9753.6, 'transponder_code': None, 'special_purpose_indicator': False, 'position_source': 0, 'category': 4, 'airline': 'United Airlines'}\n",
      "JBU161  \n",
      "{'icao24': 'ad4f72', 'origin_airport_icao': 'KJFK', 'destination_airport_icao': 'KSMF', 'scheduled_departure': 1697582400, 'scheduled_arrival': 1697604600, 'actual_departure': 1697583211, 'estimated_arrival': 1697602432, 'historical_flight_time': '19716', 'historical_delay': '940', 'callsign': 'JBU161  ', 'airline_icao': 'JBU', 'origin_country': 'United States', 'time_position': 1697599560, 'last_contact': 1697599560, 'longitude': -115.2902, 'latitude': 38.9794, 'geo_altitude': 10843.26, 'on_ground': False, 'true_track': 260.58, 'velocity': 251.35, 'vertical_rate': 0.0, 'sensors': None, 'barometric_altitude': 10370.82, 'transponder_code': None, 'special_purpose_indicator': False, 'position_source': 0, 'category': 4, 'airline': 'JetBlue'}\n",
      "FFT456  \n",
      "{'icao24': 'a963f7', 'origin_airport_icao': 'KDEN', 'destination_airport_icao': 'KATL', 'scheduled_departure': 1697596740, 'scheduled_arrival': 1697607600, 'actual_departure': 1697597545, 'estimated_arrival': 1697606016, 'historical_flight_time': '8302', 'historical_delay': '-765', 'callsign': 'FFT456  ', 'airline_icao': 'FFT', 'origin_country': 'United States', 'time_position': 1697599864, 'last_contact': 1697599864, 'longitude': -99.0327, 'latitude': 38.3485, 'geo_altitude': 11056.62, 'on_ground': False, 'true_track': 117.31, 'velocity': 246.65, 'vertical_rate': -0.33, 'sensors': None, 'barometric_altitude': 10668.0, 'transponder_code': None, 'special_purpose_indicator': False, 'position_source': 0, 'category': 1, 'airline': 'Frontier Airlines'}\n",
      "UAL1012 \n",
      "{'icao24': 'ac234f', 'origin_airport_icao': 'KSLC', 'destination_airport_icao': 'KSFO', 'scheduled_departure': 1697596440, 'scheduled_arrival': 1697604120, 'actual_departure': 1697597816, 'estimated_arrival': 1697603072, 'historical_flight_time': '5418', 'historical_delay': '-1352', 'callsign': 'UAL1012 ', 'airline_icao': 'UAL', 'origin_country': 'United States', 'time_position': 1697599698, 'last_contact': 1697599705, 'longitude': -115.391, 'latitude': 38.6822, 'geo_altitude': 11468.1, 'on_ground': False, 'true_track': 285.85, 'velocity': 220.33, 'vertical_rate': 0.33, 'sensors': None, 'barometric_altitude': 10972.8, 'transponder_code': '6010', 'special_purpose_indicator': False, 'position_source': 0, 'category': 0, 'airline': 'United Airlines'}\n",
      "NKS1268 \n",
      "{'icao24': 'ace6df', 'origin_airport_icao': 'KIAH', 'destination_airport_icao': 'KLAX', 'scheduled_departure': 1697596020, 'scheduled_arrival': 1697609220, 'actual_departure': 1697596602, 'estimated_arrival': 1697607808, 'historical_flight_time': '11333', 'historical_delay': '-671', 'callsign': 'NKS1268 ', 'airline_icao': 'NKS', 'origin_country': 'United States', 'time_position': 1697599862, 'last_contact': 1697599863, 'longitude': -102.2187, 'latitude': 31.2713, 'geo_altitude': 11490.96, 'on_ground': False, 'true_track': 282.11, 'velocity': 215.73, 'vertical_rate': 0.0, 'sensors': None, 'barometric_altitude': 10988.04, 'transponder_code': '2450', 'special_purpose_indicator': False, 'position_source': 0, 'category': 0, 'airline': 'Spirit Airlines'}\n",
      "UAL2259 \n",
      "{'icao24': 'aa56f7', 'origin_airport_icao': 'KIAH', 'destination_airport_icao': 'KSNA', 'scheduled_departure': 1697591700, 'scheduled_arrival': 1697604300, 'actual_departure': 1697593146, 'estimated_arrival': 1697603712, 'historical_flight_time': '10588', 'historical_delay': '-784', 'callsign': 'UAL2259 ', 'airline_icao': 'UAL', 'origin_country': 'United States', 'time_position': 1697599863, 'last_contact': 1697599863, 'longitude': -109.9039, 'latitude': 32.7124, 'geo_altitude': 12092.94, 'on_ground': False, 'true_track': 287.57, 'velocity': 225.01, 'vertical_rate': 0.0, 'sensors': None, 'barometric_altitude': 11582.4, 'transponder_code': None, 'special_purpose_indicator': False, 'position_source': 0, 'category': 4, 'airline': 'United Airlines'}\n",
      "UAL475  \n",
      "{'icao24': 'a94b02', 'origin_airport_icao': 'KDEN', 'destination_airport_icao': 'KIAH', 'scheduled_departure': 1697591820, 'scheduled_arrival': 1697600640, 'actual_departure': 1697593822, 'estimated_arrival': 1697600293, 'historical_flight_time': '6586', 'historical_delay': '-780', 'callsign': 'UAL475  ', 'airline_icao': 'UAL', 'origin_country': 'United States', 'time_position': 1697599863, 'last_contact': 1697599863, 'longitude': -95.805, 'latitude': 30.2826, 'geo_altitude': 2301.24, 'on_ground': False, 'true_track': 160.16, 'velocity': 145.48, 'vertical_rate': -4.88, 'sensors': None, 'barometric_altitude': 2217.42, 'transponder_code': '6567', 'special_purpose_indicator': False, 'position_source': 0, 'category': 4, 'airline': 'United Airlines'}\n",
      "UAL1424 \n",
      "{'icao24': 'a94b08', 'origin_airport_icao': 'KORD', 'destination_airport_icao': 'KAUS', 'scheduled_departure': 1697590620, 'scheduled_arrival': 1697600700, 'actual_departure': 1697592533, 'estimated_arrival': 1697599921, 'historical_flight_time': '7802', 'historical_delay': '-244', 'callsign': 'UAL1424 ', 'airline_icao': 'UAL', 'origin_country': 'United States', 'time_position': 1697599863, 'last_contact': 1697599863, 'longitude': -97.6805, 'latitude': 30.2551, 'geo_altitude': 396.24, 'on_ground': False, 'true_track': 178.69, 'velocity': 67.41, 'vertical_rate': -3.25, 'sensors': None, 'barometric_altitude': 373.38, 'transponder_code': '1353', 'special_purpose_indicator': False, 'position_source': 0, 'category': 4, 'airline': 'United Airlines'}\n",
      "FFT2786 \n",
      "{'icao24': 'a3f436', 'origin_airport_icao': 'KSEA', 'destination_airport_icao': 'KPHX', 'scheduled_departure': 1697588580, 'scheduled_arrival': 1697599140, 'actual_departure': 1697594215, 'estimated_arrival': 1697602432, 'historical_flight_time': '8521', 'historical_delay': '106', 'callsign': 'FFT2786 ', 'airline_icao': 'FFT', 'origin_country': 'United States', 'time_position': 1697599862, 'last_contact': 1697599862, 'longitude': -112.9608, 'latitude': 37.0391, 'geo_altitude': 11209.02, 'on_ground': False, 'true_track': 154.55, 'velocity': 235.86, 'vertical_rate': -4.55, 'sensors': None, 'barometric_altitude': 10728.96, 'transponder_code': None, 'special_purpose_indicator': False, 'position_source': 0, 'category': 0, 'airline': 'Frontier Airlines'}\n",
      "SKW5598 \n",
      "{'icao24': 'a09322', 'origin_airport_icao': 'Unknown', 'destination_airport_icao': 'Unknown', 'scheduled_departure': 'Unknown', 'scheduled_arrival': 'Unknown', 'actual_departure': 'Unknown', 'estimated_arrival': 'Unknown', 'historical_flight_time': 'Unknown', 'historical_delay': 'Unknown', 'callsign': 'SKW5598 ', 'airline_icao': 'SKW', 'origin_country': 'United States', 'time_position': 1697599862, 'last_contact': 1697599863, 'longitude': -106.8096, 'latitude': 34.9987, 'geo_altitude': 2346.96, 'on_ground': False, 'true_track': 25.36, 'velocity': 98.49, 'vertical_rate': -1.95, 'sensors': None, 'barometric_altitude': 2263.14, 'transponder_code': None, 'special_purpose_indicator': False, 'position_source': 0, 'category': 4, 'airline': 'SkyWest Airlines'}\n",
      "SKW3183 \n",
      "{'icao24': 'a99a3d', 'origin_airport_icao': 'Unknown', 'destination_airport_icao': 'Unknown', 'scheduled_departure': 'Unknown', 'scheduled_arrival': 'Unknown', 'actual_departure': 'Unknown', 'estimated_arrival': 'Unknown', 'historical_flight_time': 'Unknown', 'historical_delay': 'Unknown', 'callsign': 'SKW3183 ', 'airline_icao': 'SKW', 'origin_country': 'United States', 'time_position': 1697599740, 'last_contact': 1697599744, 'longitude': -92.6805, 'latitude': 31.4818, 'geo_altitude': 1653.54, 'on_ground': False, 'true_track': 145.5, 'velocity': 121.72, 'vertical_rate': -0.98, 'sensors': None, 'barometric_altitude': 1607.82, 'transponder_code': None, 'special_purpose_indicator': False, 'position_source': 0, 'category': 1, 'airline': 'SkyWest Airlines'}\n",
      "UAL333  \n",
      "{'icao24': 'a1bfb2', 'origin_airport_icao': 'KBOS', 'destination_airport_icao': 'KLAX', 'scheduled_departure': 1697580900, 'scheduled_arrival': 1697603880, 'actual_departure': 1697581475, 'estimated_arrival': 1697601152, 'historical_flight_time': '19994', 'historical_delay': '-1130', 'callsign': 'UAL333  ', 'airline_icao': 'UAL', 'origin_country': 'United States', 'time_position': 1697599863, 'last_contact': 1697599863, 'longitude': -116.2318, 'latitude': 34.5084, 'geo_altitude': 10172.7, 'on_ground': False, 'true_track': 245.78, 'velocity': 235.79, 'vertical_rate': -9.1, 'sensors': None, 'barometric_altitude': 9745.98, 'transponder_code': '2101', 'special_purpose_indicator': False, 'position_source': 0, 'category': 1, 'airline': 'United Airlines'}\n",
      "SKW4861 \n",
      "{'icao24': 'a666cd', 'origin_airport_icao': 'Unknown', 'destination_airport_icao': 'Unknown', 'scheduled_departure': 'Unknown', 'scheduled_arrival': 'Unknown', 'actual_departure': 'Unknown', 'estimated_arrival': 'Unknown', 'historical_flight_time': 'Unknown', 'historical_delay': 'Unknown', 'callsign': 'SKW4861 ', 'airline_icao': 'SKW', 'origin_country': 'United States', 'time_position': 1697599623, 'last_contact': 1697599624, 'longitude': -97.5989, 'latitude': 35.3948, 'geo_altitude': None, 'on_ground': True, 'true_track': 30.94, 'velocity': 0.0, 'vertical_rate': None, 'sensors': None, 'barometric_altitude': None, 'transponder_code': '7742', 'special_purpose_indicator': False, 'position_source': 0, 'category': 0, 'airline': 'SkyWest Airlines'}\n",
      "UAL2424 \n",
      "{'icao24': 'a34358', 'origin_airport_icao': 'KEWR', 'destination_airport_icao': 'KLAX', 'scheduled_departure': 1697583600, 'scheduled_arrival': 1697604900, 'actual_departure': 1697593976, 'estimated_arrival': 1697612032, 'historical_flight_time': '18449', 'historical_delay': '-848', 'callsign': 'UAL2424 ', 'airline_icao': 'UAL', 'origin_country': 'United States', 'time_position': 1697599863, 'last_contact': 1697599863, 'longitude': -90.4823, 'latitude': 39.6764, 'geo_altitude': 10683.24, 'on_ground': False, 'true_track': 264.36, 'velocity': 240.9, 'vertical_rate': 0.0, 'sensors': None, 'barometric_altitude': 10363.2, 'transponder_code': '1670', 'special_purpose_indicator': False, 'position_source': 0, 'category': 6, 'airline': 'United Airlines'}\n",
      "FFT750  \n",
      "{'icao24': 'a40cd9', 'origin_airport_icao': 'Unknown', 'destination_airport_icao': 'Unknown', 'scheduled_departure': 'Unknown', 'scheduled_arrival': 'Unknown', 'actual_departure': 'Unknown', 'estimated_arrival': 'Unknown', 'historical_flight_time': 'Unknown', 'historical_delay': 'Unknown', 'callsign': 'FFT750  ', 'airline_icao': 'FFT', 'origin_country': 'United States', 'time_position': 1697599627, 'last_contact': 1697599627, 'longitude': -104.6746, 'latitude': 39.8534, 'geo_altitude': None, 'on_ground': True, 'true_track': 0.0, 'velocity': 1.8, 'vertical_rate': None, 'sensors': None, 'barometric_altitude': None, 'transponder_code': None, 'special_purpose_indicator': False, 'position_source': 0, 'category': 0, 'airline': 'Frontier Airlines'}\n",
      "FFT552  \n",
      "{'icao24': 'a3ecc8', 'origin_airport_icao': 'KSAN', 'destination_airport_icao': 'KDEN', 'scheduled_departure': 1697594880, 'scheduled_arrival': 1697603880, 'actual_departure': 1697595612, 'estimated_arrival': 1697602304, 'historical_flight_time': '6557', 'historical_delay': '-1057', 'callsign': 'FFT552  ', 'airline_icao': 'FFT', 'origin_country': 'United States', 'time_position': 1697599863, 'last_contact': 1697599863, 'longitude': -108.9754, 'latitude': 37.2455, 'geo_altitude': 10500.36, 'on_ground': False, 'true_track': 59.56, 'velocity': 248.81, 'vertical_rate': 0.0, 'sensors': None, 'barometric_altitude': 10066.02, 'transponder_code': None, 'special_purpose_indicator': False, 'position_source': 0, 'category': 0, 'airline': 'Frontier Airlines'}\n",
      "JBU1211 \n",
      "{'icao24': 'ad444d', 'origin_airport_icao': 'KJFK', 'destination_airport_icao': 'KLAS', 'scheduled_departure': 1697587200, 'scheduled_arrival': 1697608020, 'actual_departure': 1697588179, 'estimated_arrival': 1697605888, 'historical_flight_time': '18006', 'historical_delay': '-755', 'callsign': 'JBU1211 ', 'airline_icao': 'JBU', 'origin_country': 'United States', 'time_position': 1697599863, 'last_contact': 1697599863, 'longitude': -102.5469, 'latitude': 37.6757, 'geo_altitude': 11391.9, 'on_ground': False, 'true_track': 260.09, 'velocity': 215.16, 'vertical_rate': 0.0, 'sensors': None, 'barometric_altitude': 10980.42, 'transponder_code': '7136', 'special_purpose_indicator': False, 'position_source': 0, 'category': 4, 'airline': 'JetBlue'}\n",
      "UAL1437 \n",
      "{'icao24': 'a5cc15', 'origin_airport_icao': 'KDEN', 'destination_airport_icao': 'KLAS', 'scheduled_departure': 1697597340, 'scheduled_arrival': 1697604600, 'actual_departure': 1697597974, 'estimated_arrival': 1697603200, 'historical_flight_time': '5318', 'historical_delay': '-1150', 'callsign': 'UAL1437 ', 'airline_icao': 'UAL', 'origin_country': 'United States', 'time_position': 1697599863, 'last_contact': 1697599863, 'longitude': -108.8218, 'latitude': 38.8072, 'geo_altitude': 10797.54, 'on_ground': False, 'true_track': 245.1, 'velocity': 221.19, 'vertical_rate': 0.0, 'sensors': None, 'barometric_altitude': 10363.2, 'transponder_code': None, 'special_purpose_indicator': False, 'position_source': 0, 'category': 0, 'airline': 'United Airlines'}\n",
      "UAL548  \n",
      "{'icao24': 'a5cc11', 'origin_airport_icao': 'KBWI', 'destination_airport_icao': 'KSFO', 'scheduled_departure': 1697583120, 'scheduled_arrival': 1697604480, 'actual_departure': 1697584372, 'estimated_arrival': 1697603328, 'historical_flight_time': '19284', 'historical_delay': '-1516', 'callsign': 'UAL548  ', 'airline_icao': 'UAL', 'origin_country': 'United States', 'time_position': 1697599767, 'last_contact': 1697599767, 'longitude': -114.6077, 'latitude': 38.7067, 'geo_altitude': 11475.72, 'on_ground': False, 'true_track': 277.49, 'velocity': 232.97, 'vertical_rate': 0.0, 'sensors': None, 'barometric_altitude': 10972.8, 'transponder_code': '2140', 'special_purpose_indicator': False, 'position_source': 0, 'category': 0, 'airline': 'United Airlines'}\n",
      "ASA372  \n",
      "{'icao24': 'a2ce05', 'origin_airport_icao': 'KSEA', 'destination_airport_icao': 'KDFW', 'scheduled_departure': 1697591700, 'scheduled_arrival': 1697605140, 'actual_departure': 1697592701, 'estimated_arrival': 1697604224, 'historical_flight_time': '11883', 'historical_delay': '-339', 'callsign': 'ASA372  ', 'airline_icao': 'ASA', 'origin_country': 'United States', 'time_position': 1697599863, 'last_contact': 1697599863, 'longitude': -104.2938, 'latitude': 38.2614, 'geo_altitude': 11071.86, 'on_ground': False, 'true_track': 134.91, 'velocity': 244.09, 'vertical_rate': 0.65, 'sensors': None, 'barometric_altitude': 10668.0, 'transponder_code': None, 'special_purpose_indicator': False, 'position_source': 0, 'category': 4, 'airline': 'Alaska Airlines'}\n",
      "FFT9235 \n"
     ]
    }
   ],
   "source": [
    "await get_updates()\n"
   ]
  }
 ],
 "metadata": {
  "kernelspec": {
   "display_name": "Python 3 (ipykernel)",
   "language": "python",
   "name": "python3"
  },
  "language_info": {
   "codemirror_mode": {
    "name": "ipython",
    "version": 3
   },
   "file_extension": ".py",
   "mimetype": "text/x-python",
   "name": "python",
   "nbconvert_exporter": "python",
   "pygments_lexer": "ipython3",
   "version": "3.11.4"
  }
 },
 "nbformat": 4,
 "nbformat_minor": 5
}
