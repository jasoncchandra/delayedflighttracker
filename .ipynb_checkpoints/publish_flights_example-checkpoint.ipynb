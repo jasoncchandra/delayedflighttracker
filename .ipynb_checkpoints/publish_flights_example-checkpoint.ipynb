{
 "cells": [
  {
   "cell_type": "code",
   "execution_count": null,
   "id": "c085e65c-b40b-460b-b85d-be4fd8d21539",
   "metadata": {},
   "outputs": [],
   "source": [
    "import json\n",
    "import asyncio\n",
    "\n",
    "from aiohttp import ClientSession, BasicAuth\n",
    "from python_opensky import OpenSky, BoundingBox\n",
    "from pyensign.ensign import authenticate, publisher"
   ]
  },
  {
   "cell_type": "markdown",
   "id": "d62b71c3-1516-404b-8057-57ce31a681ba",
   "metadata": {},
   "source": [
    "# Configuration"
   ]
  },
  {
   "cell_type": "code",
   "execution_count": null,
   "id": "c7e981ab-428a-479c-9192-abf58fa7456d",
   "metadata": {},
   "outputs": [],
   "source": [
    "OPENSKY_CREDS_PATH=\"opensky-creds.json\"\n",
    "ENSIGN_CREDS_PATH=\"flight-tracker-creds.json\"\n",
    "\n",
    "def load_opensky_creds():\n",
    "    with open(OPENSKY_CREDS_PATH) as f:\n",
    "        creds = json.load(f)\n",
    "        return BasicAuth(login=creds[\"username\"], password=creds[\"password\"])\n",
    "\n",
    "OPENSKY_CREDS = load_opensky_creds()"
   ]
  },
  {
   "cell_type": "code",
   "execution_count": null,
   "id": "0fdb2652-5f89-428a-ae1d-a05731b9bf64",
   "metadata": {},
   "outputs": [],
   "source": [
    "BOUNDING_BOX = BoundingBox(\n",
    "    min_latitude=43,\n",
    "    max_latitude=49,\n",
    "    min_longitude=-97,\n",
    "    max_longitude=-89,\n",
    ")\n",
    "\n",
    "INTERVAL_SEC=5"
   ]
  },
  {
   "cell_type": "markdown",
   "id": "5f10da71-e2b2-4623-83f6-08ff9ee64bba",
   "metadata": {},
   "source": [
    "# Publish Flight Updates"
   ]
  },
  {
   "cell_type": "code",
   "execution_count": null,
   "id": "61bbb5d1-357f-4f41-b1d0-0132393ce54c",
   "metadata": {},
   "outputs": [],
   "source": [
    "@publisher(\"flight-positions\")\n",
    "async def get_flights():\n",
    "    async with ClientSession() as session:\n",
    "        async with OpenSky(session=session) as opensky:\n",
    "            await opensky.authenticate(OPENSKY_CREDS)\n",
    "            \n",
    "            response = await opensky.get_states(bounding_box=BOUNDING_BOX)\n",
    "            for vector in response.states:\n",
    "                yield {\n",
    "                    \"icao24\": vector.icao24,\n",
    "                    \"callsign\": vector.callsign,\n",
    "                    \"origin_country\": vector.origin_country,\n",
    "                    \"time_position\": vector.time_position,\n",
    "                    \"last_contact\": vector.last_contact,\n",
    "                    \"longitude\": vector.longitude,\n",
    "                    \"latitude\": vector.latitude,\n",
    "                    \"geo_altitude\": vector.geo_altitude,\n",
    "                    \"on_ground\": vector.on_ground,\n",
    "                    \"velocity\": vector.velocity,\n",
    "                    \"true_track\": vector.true_track,\n",
    "                    \"vertical_rate\": vector.vertical_rate,\n",
    "                    \"sensors\": vector.sensors,\n",
    "                    \"barometric_altitude\": vector.barometric_altitude,\n",
    "                    \"transponder_code\": vector.transponder_code,\n",
    "                    \"special_purpose_indicator\": vector.special_purpose_indicator,\n",
    "                    \"position_source\": vector.position_source,\n",
    "                    \"category\": vector.category,\n",
    "                }\n",
    "                \n",
    "@authenticate(cred_path=ENSIGN_CREDS_PATH)\n",
    "async def poll_flights():\n",
    "    for i in range(10):\n",
    "        async for data in get_flights():\n",
    "            print(data)\n",
    "        await asyncio.sleep(INTERVAL_SEC)\n",
    "            \n",
    "    # Wait for pending events to get published\n",
    "    await asyncio.sleep(1)"
   ]
  },
  {
   "cell_type": "code",
   "execution_count": null,
   "id": "ccbe6910-b912-4888-81bf-225e0aeae3a4",
   "metadata": {
    "collapsed": true,
    "jupyter": {
     "outputs_hidden": true
    },
    "tags": []
   },
   "outputs": [],
   "source": [
    "await poll_flights()"
   ]
  }
 ],
 "metadata": {
  "kernelspec": {
   "display_name": "Python 3 (ipykernel)",
   "language": "python",
   "name": "python3"
  },
  "language_info": {
   "codemirror_mode": {
    "name": "ipython",
    "version": 3
   },
   "file_extension": ".py",
   "mimetype": "text/x-python",
   "name": "python",
   "nbconvert_exporter": "python",
   "pygments_lexer": "ipython3",
   "version": "3.10.0"
  }
 },
 "nbformat": 4,
 "nbformat_minor": 5
}
