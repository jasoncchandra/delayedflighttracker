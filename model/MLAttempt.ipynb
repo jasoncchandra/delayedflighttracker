{
 "cells": [
  {
   "cell_type": "code",
   "execution_count": 2,
   "id": "3a626363-54f6-45e1-90d7-8e9e72fc6032",
   "metadata": {
    "tags": []
   },
   "outputs": [
    {
     "name": "stdout",
     "output_type": "stream",
     "text": [
      "Collecting river\n",
      "  Downloading river-0.19.0-cp311-cp311-macosx_10_9_x86_64.whl (1.8 MB)\n",
      "\u001b[2K     \u001b[90m━━━━━━━━━━━━━━━━━━━━━━━━━━━━━━━━━━━━━━━━\u001b[0m \u001b[32m1.8/1.8 MB\u001b[0m \u001b[31m9.7 MB/s\u001b[0m eta \u001b[36m0:00:00\u001b[0m:00:01\u001b[0m00:01\u001b[0m\n",
      "\u001b[?25hCollecting numpy>=1.25.2 (from river)\n",
      "  Downloading numpy-1.26.1-cp311-cp311-macosx_10_9_x86_64.whl (20.6 MB)\n",
      "\u001b[2K     \u001b[90m━━━━━━━━━━━━━━━━━━━━━━━━━━━━━━━━━━━━━━━━\u001b[0m \u001b[32m20.6/20.6 MB\u001b[0m \u001b[31m3.0 MB/s\u001b[0m eta \u001b[36m0:00:00\u001b[0m00:01\u001b[0m00:01\u001b[0mm\n",
      "\u001b[?25hRequirement already satisfied: scipy>=1.5 in /Users/chandrajason/anaconda3/lib/python3.11/site-packages (from river) (1.10.1)\n",
      "Requirement already satisfied: pandas>=1.3 in /Users/chandrajason/anaconda3/lib/python3.11/site-packages (from river) (1.5.3)\n",
      "Requirement already satisfied: python-dateutil>=2.8.1 in /Users/chandrajason/anaconda3/lib/python3.11/site-packages (from pandas>=1.3->river) (2.8.2)\n",
      "Requirement already satisfied: pytz>=2020.1 in /Users/chandrajason/anaconda3/lib/python3.11/site-packages (from pandas>=1.3->river) (2022.7)\n",
      "Requirement already satisfied: six>=1.5 in /Users/chandrajason/anaconda3/lib/python3.11/site-packages (from python-dateutil>=2.8.1->pandas>=1.3->river) (1.16.0)\n",
      "Installing collected packages: numpy, river\n",
      "  Attempting uninstall: numpy\n",
      "    Found existing installation: numpy 1.24.3\n",
      "    Uninstalling numpy-1.24.3:\n",
      "      Successfully uninstalled numpy-1.24.3\n",
      "\u001b[31mERROR: pip's dependency resolver does not currently take into account all the packages that are installed. This behaviour is the source of the following dependency conflicts.\n",
      "tables 3.8.0 requires blosc2~=2.0.0, which is not installed.\n",
      "tables 3.8.0 requires cython>=0.29.21, which is not installed.\n",
      "gensim 4.3.0 requires FuzzyTM>=0.4.0, which is not installed.\n",
      "transformers 2.1.1 requires sentencepiece, which is not installed.\n",
      "numba 0.57.0 requires numpy<1.25,>=1.21, but you have numpy 1.26.1 which is incompatible.\u001b[0m\u001b[31m\n",
      "\u001b[0mSuccessfully installed numpy-1.26.1 river-0.19.0\n",
      "Note: you may need to restart the kernel to use updated packages.\n"
     ]
    }
   ],
   "source": [
    "pip install river"
   ]
  },
  {
   "cell_type": "code",
   "execution_count": 9,
   "id": "f7f62c76-7eea-41fa-8040-111fad0845a2",
   "metadata": {},
   "outputs": [],
   "source": [
    "from river import compose\n",
    "from river import linear_model\n",
    "from river import metrics\n",
    "from river import preprocessing\n",
    "from river import optim\n"
   ]
  },
  {
   "cell_type": "code",
   "execution_count": 15,
   "id": "a5a788d5-a858-49f4-ada2-f8ad5f7a6d05",
   "metadata": {},
   "outputs": [
    {
     "name": "stdout",
     "output_type": "stream",
     "text": [
      "[1000] Target: 0.394257, Predicted: 0.418215\n",
      "[2000] Target: 0.955810, Predicted: 0.537046\n",
      "[3000] Target: 0.294052, Predicted: 0.483016\n",
      "[4000] Target: 0.318496, Predicted: 0.475427\n",
      "[5000] Target: 0.388457, Predicted: 0.594337\n",
      "[6000] Target: 0.687762, Predicted: 0.527315\n",
      "[7000] Target: 0.094749, Predicted: 0.467219\n",
      "[8000] Target: 0.980321, Predicted: 0.385157\n",
      "[9000] Target: 0.394060, Predicted: 0.503571\n",
      "[10000] Target: 0.830827, Predicted: 0.392974\n"
     ]
    }
   ],
   "source": [
    "import random\n",
    "from river import compose\n",
    "from river import linear_model\n",
    "from river import metrics\n",
    "from river import preprocessing\n",
    "from river import optim\n",
    "\n",
    "# Create a model with feature selection, scaling, and linear regression\n",
    "model = compose.Select('feature1', 'feature2', 'feature3', 'feature4')\n",
    "model |= preprocessing.StandardScaler()\n",
    "model |= linear_model.LinearRegression(optimizer=optim.SGD(0.01))\n",
    "\n",
    "# Simulate a random data stream\n",
    "data_stream = []\n",
    "\n",
    "for _ in range(10000):  # Simulate 10,000 data points\n",
    "    feature1 = random.uniform(0, 1)\n",
    "    feature2 = random.uniform(0, 1)\n",
    "    feature3 = random.uniform(0, 1)\n",
    "    feature4 = random.uniform(0, 1)\n",
    "    target = random.uniform(0, 1)\n",
    "\n",
    "    observation = {'feature1': feature1, 'feature2': feature2, 'feature3': feature3, 'feature4': feature4}\n",
    "    data_stream.append((observation, target))\n",
    "\n",
    "# Initialize lists to store target and predicted values\n",
    "target_values = []\n",
    "predicted_values = []\n",
    "\n",
    "# Iterate through the data stream and update the model\n",
    "for i, (x, y) in enumerate(data_stream, 1):\n",
    "    y_pred = model.predict_one(x)\n",
    "    model.learn_one(x, y)\n",
    "\n",
    "    # Append the target and predicted values to their respective lists\n",
    "    target_values.append(y)\n",
    "    predicted_values.append(y_pred)\n",
    "\n",
    "    # Print or log the target and predicted values every 1,000 observations\n",
    "    if i % 1000 == 0:\n",
    "        print(f\"[{i}] Target: {y:.6f}, Predicted: {y_pred:.6f}\")\n",
    "\n",
    "\n"
   ]
  },
  {
   "cell_type": "code",
   "execution_count": null,
   "id": "70250f73-b433-4787-bf0f-c3ce6e5e8948",
   "metadata": {},
   "outputs": [],
   "source": []
  }
 ],
 "metadata": {
  "kernelspec": {
   "display_name": "Python 3 (ipykernel)",
   "language": "python",
   "name": "python3"
  },
  "language_info": {
   "codemirror_mode": {
    "name": "ipython",
    "version": 3
   },
   "file_extension": ".py",
   "mimetype": "text/x-python",
   "name": "python",
   "nbconvert_exporter": "python",
   "pygments_lexer": "ipython3",
   "version": "3.11.3"
  }
 },
 "nbformat": 4,
 "nbformat_minor": 5
}
